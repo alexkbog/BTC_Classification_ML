{
 "cells": [
  {
   "cell_type": "markdown",
   "metadata": {},
   "source": [
    "# SVM Directional Classifiers\n",
    "The purpose of this notebook is to create a Support Vector Machine that is capable of classfying the direction (better than random) of each asset class, with the final goal of seeing how well each SVM predicts the direction of bitcoin returns in order to get a better sense of its behavior. The features used in each independent SVM are as follows:\n",
    "1. Price Volatility\n",
    "2. Price Momentum\n",
    "3. Price  Variance (Result of GARCH analysis)"
   ]
  },
  {
   "cell_type": "code",
   "execution_count": 1,
   "metadata": {},
   "outputs": [],
   "source": [
    "#Importing Neccesary Packages\n",
    "from sklearn.preprocessing import StandardScaler  \n",
    "from sklearn.model_selection import train_test_split  \n",
    "from sklearn.metrics import accuracy_score # \n",
    "from sklearn import linear_model\n",
    "from sklearn import svm\n",
    "from scipy import stats\n",
    "import seaborn as sns; sns.set()\n",
    "\n",
    "import numpy as np\n",
    "import numpy.random as r\n",
    "%matplotlib inline\n",
    "import matplotlib.pyplot as plt \n",
    "import pandas as pd"
   ]
  },
  {
   "cell_type": "markdown",
   "metadata": {},
   "source": [
    " In many ways, there are loads of parameters to be optimized here, however, while I am, at once trying to optimize for the prediction, I am really just trying to extract insights into the Asset Class itself and from that perspective, I will attempt to rationally choose certain smoothing parameters."
   ]
  },
  {
   "cell_type": "code",
   "execution_count": 2,
   "metadata": {},
   "outputs": [
    {
     "name": "stdout",
     "output_type": "stream",
     "text": [
      "(3627, 12)\n"
     ]
    },
    {
     "data": {
      "text/html": [
       "<div>\n",
       "<style scoped>\n",
       "    .dataframe tbody tr th:only-of-type {\n",
       "        vertical-align: middle;\n",
       "    }\n",
       "\n",
       "    .dataframe tbody tr th {\n",
       "        vertical-align: top;\n",
       "    }\n",
       "\n",
       "    .dataframe thead th {\n",
       "        text-align: right;\n",
       "    }\n",
       "</style>\n",
       "<table border=\"1\" class=\"dataframe\">\n",
       "  <thead>\n",
       "    <tr style=\"text-align: right;\">\n",
       "      <th></th>\n",
       "      <th>SNP_Close</th>\n",
       "      <th>SNP_Volume</th>\n",
       "      <th>GLD_Close</th>\n",
       "      <th>GLD_Volume</th>\n",
       "      <th>EUR_Close</th>\n",
       "      <th>EUR_Volume</th>\n",
       "      <th>USD_Close</th>\n",
       "      <th>USD_Volume</th>\n",
       "      <th>CBND_Close</th>\n",
       "      <th>CBND_Volume</th>\n",
       "      <th>TBND_Close</th>\n",
       "      <th>TBND_Volume</th>\n",
       "    </tr>\n",
       "    <tr>\n",
       "      <th>Date</th>\n",
       "      <th></th>\n",
       "      <th></th>\n",
       "      <th></th>\n",
       "      <th></th>\n",
       "      <th></th>\n",
       "      <th></th>\n",
       "      <th></th>\n",
       "      <th></th>\n",
       "      <th></th>\n",
       "      <th></th>\n",
       "      <th></th>\n",
       "      <th></th>\n",
       "    </tr>\n",
       "  </thead>\n",
       "  <tbody>\n",
       "    <tr>\n",
       "      <th>2004-11-19</th>\n",
       "      <td>-0.011224</td>\n",
       "      <td>-1.740063</td>\n",
       "      <td>0.008973</td>\n",
       "      <td>0.271874</td>\n",
       "      <td>0.004888</td>\n",
       "      <td>1.418665</td>\n",
       "      <td>-0.010727</td>\n",
       "      <td>0.082009</td>\n",
       "      <td>-0.005258</td>\n",
       "      <td>-0.819043</td>\n",
       "      <td>-0.005495</td>\n",
       "      <td>0.489545</td>\n",
       "    </tr>\n",
       "    <tr>\n",
       "      <th>2004-11-22</th>\n",
       "      <td>0.005878</td>\n",
       "      <td>-1.848352</td>\n",
       "      <td>0.003789</td>\n",
       "      <td>0.318723</td>\n",
       "      <td>0.001956</td>\n",
       "      <td>1.396135</td>\n",
       "      <td>0.000378</td>\n",
       "      <td>0.080116</td>\n",
       "      <td>-0.000447</td>\n",
       "      <td>-0.793952</td>\n",
       "      <td>0.000703</td>\n",
       "      <td>-0.608626</td>\n",
       "    </tr>\n",
       "    <tr>\n",
       "      <th>2004-11-23</th>\n",
       "      <td>-0.000255</td>\n",
       "      <td>-1.819561</td>\n",
       "      <td>-0.004459</td>\n",
       "      <td>-0.895031</td>\n",
       "      <td>0.003007</td>\n",
       "      <td>1.380100</td>\n",
       "      <td>0.001598</td>\n",
       "      <td>0.080919</td>\n",
       "      <td>0.001251</td>\n",
       "      <td>-0.838895</td>\n",
       "      <td>-0.000938</td>\n",
       "      <td>-0.600090</td>\n",
       "    </tr>\n",
       "    <tr>\n",
       "      <th>2004-11-24</th>\n",
       "      <td>0.004087</td>\n",
       "      <td>-2.044953</td>\n",
       "      <td>0.006682</td>\n",
       "      <td>-0.491322</td>\n",
       "      <td>0.007309</td>\n",
       "      <td>1.392799</td>\n",
       "      <td>-0.005153</td>\n",
       "      <td>0.084316</td>\n",
       "      <td>-0.000089</td>\n",
       "      <td>-0.843064</td>\n",
       "      <td>0.001406</td>\n",
       "      <td>-0.672622</td>\n",
       "    </tr>\n",
       "    <tr>\n",
       "      <th>2004-11-26</th>\n",
       "      <td>0.000753</td>\n",
       "      <td>-2.566598</td>\n",
       "      <td>0.005313</td>\n",
       "      <td>-0.904862</td>\n",
       "      <td>0.008452</td>\n",
       "      <td>1.351151</td>\n",
       "      <td>-0.002114</td>\n",
       "      <td>0.075066</td>\n",
       "      <td>-0.003578</td>\n",
       "      <td>-0.852473</td>\n",
       "      <td>-0.003637</td>\n",
       "      <td>-0.666729</td>\n",
       "    </tr>\n",
       "  </tbody>\n",
       "</table>\n",
       "</div>"
      ],
      "text/plain": [
       "            SNP_Close  SNP_Volume  GLD_Close  GLD_Volume  EUR_Close  \\\n",
       "Date                                                                  \n",
       "2004-11-19  -0.011224   -1.740063   0.008973    0.271874   0.004888   \n",
       "2004-11-22   0.005878   -1.848352   0.003789    0.318723   0.001956   \n",
       "2004-11-23  -0.000255   -1.819561  -0.004459   -0.895031   0.003007   \n",
       "2004-11-24   0.004087   -2.044953   0.006682   -0.491322   0.007309   \n",
       "2004-11-26   0.000753   -2.566598   0.005313   -0.904862   0.008452   \n",
       "\n",
       "            EUR_Volume  USD_Close  USD_Volume  CBND_Close  CBND_Volume  \\\n",
       "Date                                                                     \n",
       "2004-11-19    1.418665  -0.010727    0.082009   -0.005258    -0.819043   \n",
       "2004-11-22    1.396135   0.000378    0.080116   -0.000447    -0.793952   \n",
       "2004-11-23    1.380100   0.001598    0.080919    0.001251    -0.838895   \n",
       "2004-11-24    1.392799  -0.005153    0.084316   -0.000089    -0.843064   \n",
       "2004-11-26    1.351151  -0.002114    0.075066   -0.003578    -0.852473   \n",
       "\n",
       "            TBND_Close  TBND_Volume  \n",
       "Date                                 \n",
       "2004-11-19   -0.005495     0.489545  \n",
       "2004-11-22    0.000703    -0.608626  \n",
       "2004-11-23   -0.000938    -0.600090  \n",
       "2004-11-24    0.001406    -0.672622  \n",
       "2004-11-26   -0.003637    -0.666729  "
      ]
     },
     "execution_count": 2,
     "metadata": {},
     "output_type": "execute_result"
    }
   ],
   "source": [
    "data = pd.read_csv(\"Final_Data.csv\")\n",
    "data.set_index('Date',inplace = True)\n",
    "print(data.shape)\n",
    "data.head()"
   ]
  },
  {
   "cell_type": "code",
   "execution_count": 3,
   "metadata": {},
   "outputs": [],
   "source": [
    "#First we will calculate the Price Volatility and Momentum\n",
    "#Keeping them in a separate dataframe\n",
    "#The training is on a binary variable\n",
    "#We will correspond the last n days, to an m day forecast\n",
    "#therefore, we will use n = 20 and predict 20 days (month) forward\n",
    "#The question being asked is: If the stock volatility and momentum are here relative to a month\n",
    "#Where will they be in one month\n",
    "n = 20 #Monthly Smoothing \n",
    "i = 0\n",
    "vm_df = pd.DataFrame(data.index[n-1:])\n",
    "vm_df.set_index('Date',inplace = True)\n",
    "vol_ar = np.zeros(data.shape[0] - n + 1)\n",
    "mom_ar = np.zeros(data.shape[0] - n + 1)\n",
    "for column in data:\n",
    "    if i % 2 == 0:\n",
    "        prices = data[column].values\n",
    "        temp_mom = np.zeros(data.shape[0])\n",
    "        for d in range(data.shape[0]):\n",
    "            if prices[d] > 0:\n",
    "                temp_mom[d] = 1\n",
    "            elif prices[d] < 0:\n",
    "                temp_mom[d] = -1\n",
    "        for j in range(data.shape[0]-n+1):\n",
    "            vol_ar[j] = np.average(prices[j:j+n])\n",
    "            mom_ar[j] = np.average(temp_mom[j:j+n])\n",
    "        vm_df[column + ' Vol'] = vol_ar\n",
    "        vm_df[column + ' Moment'] = mom_ar\n",
    "    i+=1\n"
   ]
  },
  {
   "cell_type": "code",
   "execution_count": 110,
   "metadata": {},
   "outputs": [
    {
     "name": "stdout",
     "output_type": "stream",
     "text": [
      "19\n",
      "(3608, 12)\n",
      "2004-12-17 2019-04-18\n"
     ]
    },
    {
     "data": {
      "text/html": [
       "<div>\n",
       "<style scoped>\n",
       "    .dataframe tbody tr th:only-of-type {\n",
       "        vertical-align: middle;\n",
       "    }\n",
       "\n",
       "    .dataframe tbody tr th {\n",
       "        vertical-align: top;\n",
       "    }\n",
       "\n",
       "    .dataframe thead th {\n",
       "        text-align: right;\n",
       "    }\n",
       "</style>\n",
       "<table border=\"1\" class=\"dataframe\">\n",
       "  <thead>\n",
       "    <tr style=\"text-align: right;\">\n",
       "      <th></th>\n",
       "      <th>SNP_Close Vol</th>\n",
       "      <th>SNP_Close Moment</th>\n",
       "      <th>GLD_Close Vol</th>\n",
       "      <th>GLD_Close Moment</th>\n",
       "      <th>EUR_Close Vol</th>\n",
       "      <th>EUR_Close Moment</th>\n",
       "      <th>USD_Close Vol</th>\n",
       "      <th>USD_Close Moment</th>\n",
       "      <th>CBND_Close Vol</th>\n",
       "      <th>CBND_Close Moment</th>\n",
       "      <th>TBND_Close Vol</th>\n",
       "      <th>TBND_Close Moment</th>\n",
       "    </tr>\n",
       "    <tr>\n",
       "      <th>Date</th>\n",
       "      <th></th>\n",
       "      <th></th>\n",
       "      <th></th>\n",
       "      <th></th>\n",
       "      <th></th>\n",
       "      <th></th>\n",
       "      <th></th>\n",
       "      <th></th>\n",
       "      <th></th>\n",
       "      <th></th>\n",
       "      <th></th>\n",
       "      <th></th>\n",
       "    </tr>\n",
       "  </thead>\n",
       "  <tbody>\n",
       "    <tr>\n",
       "      <th>2004-12-17</th>\n",
       "      <td>0.000448</td>\n",
       "      <td>0.0</td>\n",
       "      <td>-0.000215</td>\n",
       "      <td>0.0</td>\n",
       "      <td>0.001327</td>\n",
       "      <td>0.1</td>\n",
       "      <td>-0.000017</td>\n",
       "      <td>0.1</td>\n",
       "      <td>-2.629105e-04</td>\n",
       "      <td>0.2</td>\n",
       "      <td>-0.000263</td>\n",
       "      <td>-0.1</td>\n",
       "    </tr>\n",
       "    <tr>\n",
       "      <th>2004-12-20</th>\n",
       "      <td>0.001028</td>\n",
       "      <td>0.1</td>\n",
       "      <td>-0.000494</td>\n",
       "      <td>0.0</td>\n",
       "      <td>0.001405</td>\n",
       "      <td>0.1</td>\n",
       "      <td>0.000476</td>\n",
       "      <td>0.1</td>\n",
       "      <td>-3.575668e-05</td>\n",
       "      <td>0.2</td>\n",
       "      <td>0.000070</td>\n",
       "      <td>0.0</td>\n",
       "    </tr>\n",
       "    <tr>\n",
       "      <th>2004-12-21</th>\n",
       "      <td>0.001184</td>\n",
       "      <td>0.1</td>\n",
       "      <td>-0.000819</td>\n",
       "      <td>-0.1</td>\n",
       "      <td>0.001229</td>\n",
       "      <td>0.0</td>\n",
       "      <td>0.000585</td>\n",
       "      <td>0.1</td>\n",
       "      <td>8.937159e-06</td>\n",
       "      <td>0.3</td>\n",
       "      <td>0.000105</td>\n",
       "      <td>0.0</td>\n",
       "    </tr>\n",
       "    <tr>\n",
       "      <th>2004-12-22</th>\n",
       "      <td>0.001367</td>\n",
       "      <td>0.2</td>\n",
       "      <td>-0.000822</td>\n",
       "      <td>-0.1</td>\n",
       "      <td>0.001143</td>\n",
       "      <td>0.0</td>\n",
       "      <td>0.000446</td>\n",
       "      <td>0.0</td>\n",
       "      <td>1.498367e-17</td>\n",
       "      <td>0.3</td>\n",
       "      <td>0.000100</td>\n",
       "      <td>0.0</td>\n",
       "    </tr>\n",
       "    <tr>\n",
       "      <th>2004-12-23</th>\n",
       "      <td>0.001186</td>\n",
       "      <td>0.2</td>\n",
       "      <td>-0.000873</td>\n",
       "      <td>-0.1</td>\n",
       "      <td>0.001240</td>\n",
       "      <td>0.0</td>\n",
       "      <td>0.000391</td>\n",
       "      <td>0.0</td>\n",
       "      <td>9.367013e-05</td>\n",
       "      <td>0.4</td>\n",
       "      <td>-0.000035</td>\n",
       "      <td>-0.1</td>\n",
       "    </tr>\n",
       "  </tbody>\n",
       "</table>\n",
       "</div>"
      ],
      "text/plain": [
       "            SNP_Close Vol  SNP_Close Moment  GLD_Close Vol  GLD_Close Moment  \\\n",
       "Date                                                                           \n",
       "2004-12-17       0.000448               0.0      -0.000215               0.0   \n",
       "2004-12-20       0.001028               0.1      -0.000494               0.0   \n",
       "2004-12-21       0.001184               0.1      -0.000819              -0.1   \n",
       "2004-12-22       0.001367               0.2      -0.000822              -0.1   \n",
       "2004-12-23       0.001186               0.2      -0.000873              -0.1   \n",
       "\n",
       "            EUR_Close Vol  EUR_Close Moment  USD_Close Vol  USD_Close Moment  \\\n",
       "Date                                                                           \n",
       "2004-12-17       0.001327               0.1      -0.000017               0.1   \n",
       "2004-12-20       0.001405               0.1       0.000476               0.1   \n",
       "2004-12-21       0.001229               0.0       0.000585               0.1   \n",
       "2004-12-22       0.001143               0.0       0.000446               0.0   \n",
       "2004-12-23       0.001240               0.0       0.000391               0.0   \n",
       "\n",
       "            CBND_Close Vol  CBND_Close Moment  TBND_Close Vol  \\\n",
       "Date                                                            \n",
       "2004-12-17   -2.629105e-04                0.2       -0.000263   \n",
       "2004-12-20   -3.575668e-05                0.2        0.000070   \n",
       "2004-12-21    8.937159e-06                0.3        0.000105   \n",
       "2004-12-22    1.498367e-17                0.3        0.000100   \n",
       "2004-12-23    9.367013e-05                0.4       -0.000035   \n",
       "\n",
       "            TBND_Close Moment  \n",
       "Date                           \n",
       "2004-12-17               -0.1  \n",
       "2004-12-20                0.0  \n",
       "2004-12-21                0.0  \n",
       "2004-12-22                0.0  \n",
       "2004-12-23               -0.1  "
      ]
     },
     "execution_count": 110,
     "metadata": {},
     "output_type": "execute_result"
    }
   ],
   "source": [
    "#Remember, the first 19 days are missing (n being 20)\n",
    "print(data.shape[0] - vm_df.shape[0])\n",
    "print(vm_df.shape)\n",
    "print(vm_df.index[0], vm_df.index[-1])\n",
    "vm_df.head()"
   ]
  },
  {
   "cell_type": "code",
   "execution_count": 13,
   "metadata": {},
   "outputs": [],
   "source": [
    "#Creating a dictionary of the training data\n",
    "asset_dict = {}\n",
    "i = 0\n",
    "col_names = ['snp','gld','eur','usd','cbnd','tbnd']\n",
    "for column in col_names:\n",
    "    asset_dict[column] = vm_df.iloc[:-20,i:i+2].values\n",
    "    i+=2"
   ]
  },
  {
   "cell_type": "code",
   "execution_count": 14,
   "metadata": {},
   "outputs": [],
   "source": [
    "# snp = vm_df.iloc[:-20,0:2].values\n",
    "# gld = vm_df.iloc[:-20,2:4].values\n",
    "# eur = vm_df.iloc[:-20,4:6].values\n",
    "# usd = vm_df.iloc[:-20,6:8].values\n",
    "# cbnd = vm_df.iloc[:-20,8:10].values\n",
    "# tbnd = vm_df.iloc[:-20,10:12].values"
   ]
  },
  {
   "cell_type": "markdown",
   "metadata": {},
   "source": [
    "# Building the Dependent Variable Y\n",
    "That will simply be 1 or -1 (for increase or decrease).\n",
    "But this is not so simple as we must do this relative to x days prior(i.e) our test dataset must be shaped a little differently.\n",
    "It must be made up to see if, relative to the price at day 1, day 20's price has gone up or down.\n",
    "Simple calculation as you will never access that as a training example except when 20 days out. Requires accessing the original dataset."
   ]
  },
  {
   "cell_type": "code",
   "execution_count": 15,
   "metadata": {},
   "outputs": [
    {
     "data": {
      "text/html": [
       "<div>\n",
       "<style scoped>\n",
       "    .dataframe tbody tr th:only-of-type {\n",
       "        vertical-align: middle;\n",
       "    }\n",
       "\n",
       "    .dataframe tbody tr th {\n",
       "        vertical-align: top;\n",
       "    }\n",
       "\n",
       "    .dataframe thead th {\n",
       "        text-align: right;\n",
       "    }\n",
       "</style>\n",
       "<table border=\"1\" class=\"dataframe\">\n",
       "  <thead>\n",
       "    <tr style=\"text-align: right;\">\n",
       "      <th></th>\n",
       "      <th>SNP_Close</th>\n",
       "      <th>SNP_Volume</th>\n",
       "      <th>GLD_Close</th>\n",
       "      <th>GLD_Volume</th>\n",
       "      <th>EUR_Close</th>\n",
       "      <th>EUR_Volume</th>\n",
       "      <th>USD_Close</th>\n",
       "      <th>USD_Volume</th>\n",
       "      <th>CBND_Close</th>\n",
       "      <th>CBND_Volume</th>\n",
       "      <th>TBND_Close</th>\n",
       "      <th>TBND_Volume</th>\n",
       "    </tr>\n",
       "    <tr>\n",
       "      <th>Date</th>\n",
       "      <th></th>\n",
       "      <th></th>\n",
       "      <th></th>\n",
       "      <th></th>\n",
       "      <th></th>\n",
       "      <th></th>\n",
       "      <th></th>\n",
       "      <th></th>\n",
       "      <th></th>\n",
       "      <th></th>\n",
       "      <th></th>\n",
       "      <th></th>\n",
       "    </tr>\n",
       "  </thead>\n",
       "  <tbody>\n",
       "    <tr>\n",
       "      <th>2004-11-18</th>\n",
       "      <td>1183.550049</td>\n",
       "      <td>1456700000</td>\n",
       "      <td>44.380001</td>\n",
       "      <td>5992000</td>\n",
       "      <td>1.29590</td>\n",
       "      <td>1.095909e+12</td>\n",
       "      <td>104.218</td>\n",
       "      <td>605919.2051</td>\n",
       "      <td>112.500000</td>\n",
       "      <td>274900</td>\n",
       "      <td>85.769997</td>\n",
       "      <td>110100</td>\n",
       "    </tr>\n",
       "    <tr>\n",
       "      <th>2004-11-19</th>\n",
       "      <td>1170.339966</td>\n",
       "      <td>1526600000</td>\n",
       "      <td>44.779999</td>\n",
       "      <td>11655300</td>\n",
       "      <td>1.30225</td>\n",
       "      <td>1.116012e+12</td>\n",
       "      <td>103.106</td>\n",
       "      <td>598165.6066</td>\n",
       "      <td>111.910004</td>\n",
       "      <td>105700</td>\n",
       "      <td>85.300003</td>\n",
       "      <td>2162100</td>\n",
       "    </tr>\n",
       "    <tr>\n",
       "      <th>2004-11-22</th>\n",
       "      <td>1177.239990</td>\n",
       "      <td>1392700000</td>\n",
       "      <td>44.950001</td>\n",
       "      <td>11996000</td>\n",
       "      <td>1.30480</td>\n",
       "      <td>1.105935e+12</td>\n",
       "      <td>103.145</td>\n",
       "      <td>595693.1925</td>\n",
       "      <td>111.860001</td>\n",
       "      <td>171300</td>\n",
       "      <td>85.360001</td>\n",
       "      <td>168100</td>\n",
       "    </tr>\n",
       "    <tr>\n",
       "      <th>2004-11-23</th>\n",
       "      <td>1176.939941</td>\n",
       "      <td>1428300000</td>\n",
       "      <td>44.750000</td>\n",
       "      <td>3169200</td>\n",
       "      <td>1.30873</td>\n",
       "      <td>1.098762e+12</td>\n",
       "      <td>103.310</td>\n",
       "      <td>596742.0947</td>\n",
       "      <td>112.000000</td>\n",
       "      <td>53800</td>\n",
       "      <td>85.279999</td>\n",
       "      <td>183600</td>\n",
       "    </tr>\n",
       "    <tr>\n",
       "      <th>2004-11-24</th>\n",
       "      <td>1181.760010</td>\n",
       "      <td>1149600000</td>\n",
       "      <td>45.049999</td>\n",
       "      <td>6105100</td>\n",
       "      <td>1.31833</td>\n",
       "      <td>1.104442e+12</td>\n",
       "      <td>102.779</td>\n",
       "      <td>601179.7988</td>\n",
       "      <td>111.989998</td>\n",
       "      <td>42900</td>\n",
       "      <td>85.400002</td>\n",
       "      <td>51900</td>\n",
       "    </tr>\n",
       "  </tbody>\n",
       "</table>\n",
       "</div>"
      ],
      "text/plain": [
       "              SNP_Close  SNP_Volume  GLD_Close  GLD_Volume  EUR_Close  \\\n",
       "Date                                                                    \n",
       "2004-11-18  1183.550049  1456700000  44.380001     5992000    1.29590   \n",
       "2004-11-19  1170.339966  1526600000  44.779999    11655300    1.30225   \n",
       "2004-11-22  1177.239990  1392700000  44.950001    11996000    1.30480   \n",
       "2004-11-23  1176.939941  1428300000  44.750000     3169200    1.30873   \n",
       "2004-11-24  1181.760010  1149600000  45.049999     6105100    1.31833   \n",
       "\n",
       "              EUR_Volume  USD_Close   USD_Volume  CBND_Close  CBND_Volume  \\\n",
       "Date                                                                        \n",
       "2004-11-18  1.095909e+12    104.218  605919.2051  112.500000       274900   \n",
       "2004-11-19  1.116012e+12    103.106  598165.6066  111.910004       105700   \n",
       "2004-11-22  1.105935e+12    103.145  595693.1925  111.860001       171300   \n",
       "2004-11-23  1.098762e+12    103.310  596742.0947  112.000000        53800   \n",
       "2004-11-24  1.104442e+12    102.779  601179.7988  111.989998        42900   \n",
       "\n",
       "            TBND_Close  TBND_Volume  \n",
       "Date                                 \n",
       "2004-11-18   85.769997       110100  \n",
       "2004-11-19   85.300003      2162100  \n",
       "2004-11-22   85.360001       168100  \n",
       "2004-11-23   85.279999       183600  \n",
       "2004-11-24   85.400002        51900  "
      ]
     },
     "execution_count": 15,
     "metadata": {},
     "output_type": "execute_result"
    }
   ],
   "source": [
    "data_prices = pd.read_csv('Final_Data_Prices.csv')\n",
    "data_prices.set_index('Date',inplace = True)\n",
    "data_prices.head()"
   ]
  },
  {
   "cell_type": "code",
   "execution_count": 16,
   "metadata": {},
   "outputs": [],
   "source": [
    "#We need to compare the data at day 0 and day 20, if larger than day 0\n",
    "#set equal to 1, else -1\n",
    "i = 0\n",
    "y_df = pd.DataFrame()\n",
    "for column in data_prices:\n",
    "    if i % 2 == 0:\n",
    "        temp_arr = np.zeros(data_prices.shape[0] - n)\n",
    "        for j in range(data_prices.shape[0] - n):\n",
    "            if data_prices[column][j] < data_prices[column][j+n]:\n",
    "                temp_arr[j] = 1\n",
    "            else:\n",
    "                temp_arr[j] = -1\n",
    "        y_df[column + ' dep'] = temp_arr\n",
    "    i += 1"
   ]
  },
  {
   "cell_type": "code",
   "execution_count": 17,
   "metadata": {},
   "outputs": [
    {
     "data": {
      "text/plain": [
       "(3608, 6)"
      ]
     },
     "execution_count": 17,
     "metadata": {},
     "output_type": "execute_result"
    }
   ],
   "source": [
    "#This starts 20 days out\n",
    "y_df.shape"
   ]
  },
  {
   "cell_type": "code",
   "execution_count": 30,
   "metadata": {},
   "outputs": [],
   "source": [
    "dep_dict = {}\n",
    "i = 0\n",
    "col_names = ['snp','gld','eur','usd','cbnd','tbnd']\n",
    "for column in col_names:\n",
    "    y = y_df.iloc[20:,i:i+1].values\n",
    "    y = y.reshape(y.shape[0],)\n",
    "    dep_dict[column] = y\n",
    "    i+=1"
   ]
  },
  {
   "cell_type": "code",
   "execution_count": 21,
   "metadata": {},
   "outputs": [],
   "source": [
    "# snp_dep = y_df.iloc[20:,0:1].values\n",
    "# gld_dep = y_df.iloc[20:,1:2].values\n",
    "# eur_dep = y_df.iloc[20:,2:3].values\n",
    "# usd_dep = y_df.iloc[20:,3:4].values\n",
    "# cbnd_dep = y_df.iloc[20:,4:5].values\n",
    "# tbnd_dep = y_df.iloc[20:,5:6].values"
   ]
  },
  {
   "cell_type": "markdown",
   "metadata": {},
   "source": [
    "# Trial 1: Reproducing Princeton Results\n",
    "In this paper: https://www.cs.princeton.edu/sites/default/files/uploads/saahil_madge.pdf, titled Predicting Stock Price Direction using Support Vector Machines, Saahil Madge uses an SVM model in order to train a classifier for directional stock price movement n days out, based on m day smoothing. I will attempt to reproduce a slightly simpler version of his results by focusing on the two variables mentioned, momentum and variance, for each asset class rather than using a stock and an index, as done in the original paper."
   ]
  },
  {
   "cell_type": "code",
   "execution_count": null,
   "metadata": {},
   "outputs": [],
   "source": [
    "#Require Looping and regularization tactics\n",
    "#Must write out a plan for this section - important component of paper\n",
    "#then have a part that visualizes the results\n",
    "#Explain why we will be using the radial basis function\n",
    "#Trying the RBF and Polynomial Kernels for different values of c and gamma?\n",
    "#Each itteration should output to a nice clean table\n",
    "#Code should be able to be reused\n"
   ]
  },
  {
   "cell_type": "markdown",
   "metadata": {},
   "source": [
    "Support Vector Machines are based on the premise of a separating hyperplane, which categorizes new examples in binary fashion, by where they fall relative to the models support vectors. In SVM, a kernel helps transform the data using linear algebra, often times transforming the data into a higher-dimensional space in order to aid in separability. Because SVM training can take a long time, and can be prone to overfitting (causes tight margins), regularization parameters can be provided (value C in svm a.k.a. the lamdba in other models however due to the use of Lagrangian Duality, it is likely avoided here). For large values of C, optimization chooses small margin hyperplane (fits tighter), and for small values of C, chooses wider margins (more classification error).\n",
    "\n",
    "There is another parameter in these models known as Gamma that I will explore. Simply put, the gamma param describes the influence of the distance of training examples from the margin (i.e. low values mean more points are considered). \n",
    "\n",
    "At its root, the SVM is built on support vectors which are simply data points that are close to and which influence the shape of the hyperplane. This is where the gamma param comes in. "
   ]
  },
  {
   "cell_type": "code",
   "execution_count": null,
   "metadata": {},
   "outputs": [],
   "source": [
    "#in this case, we can build a loop to capture the outcome for each regularization param\n",
    "#X_train, X_test, y_train, y_test = train_test_split(snp,snp_dep,test_size = 0.3)"
   ]
  },
  {
   "cell_type": "code",
   "execution_count": 33,
   "metadata": {},
   "outputs": [],
   "source": [
    "from sklearn.model_selection import KFold\n",
    "\n",
    "def svc_train(X, y, kernel = 'rbf', c = 0.1, g = .005, n = 10):\n",
    "    svc_kernel = svm.SVC(probability = False, kernel = kernel, C = c, gamma = g)\n",
    "    kf = KFold(n_splits = n, random_state = None, shuffle = True)\n",
    "    \n",
    "    max_test = 0\n",
    "    max_train = 0\n",
    "    model = None\n",
    "    for train_index, test_index in kf.split(X):\n",
    "        X_train, X_test = X[train_index], X[test_index]\n",
    "        y_train, y_test = y[train_index], y[test_index]\n",
    "        \n",
    "        mod = svc_kernel.fit(X_train, y_train)\n",
    "        \n",
    "        #Training Accuracy\n",
    "        yhat_train = svc_kernel.predict(X_train)\n",
    "        acc_train = np.mean(yhat_train == y_train)\n",
    "        \n",
    "        #Testing Accuracy\n",
    "        yhat_test = svc_kernel.predict(X_test)\n",
    "        acc_test = np.mean(yhat_test == y_test)\n",
    "        \n",
    "        if acc_test > max_test:\n",
    "            max_test = acc_test\n",
    "            max_train = acc_train\n",
    "            model = mod\n",
    "    #print('Best Test Accuracy = {0:f}'.format(max_test))\n",
    "    return(c,g,model,max_train,max_test)"
   ]
  },
  {
   "cell_type": "code",
   "execution_count": 43,
   "metadata": {},
   "outputs": [],
   "source": [
    "#Now comes the training part\n",
    "svm_outputs = {'snp':[],'gld':[],'eur':[],'usd':[],'cbnd':[],'tbnd':[]}\n",
    "cVals = [0.0001, 0.001, 0.01, 0.1, 1, 10, 100]\n",
    "gammaVals = [0.0001, 0.001, 0.01, 0.1, 1, 10, 100]\n",
    "kern = \"rbf\"\n",
    "num_splits = 10\n",
    "for key in dep_dict.keys():\n",
    "    X = asset_dict[key]\n",
    "    y = dep_dict[key]\n",
    "    for c_ in cVals:\n",
    "        for g_ in gammaVals:\n",
    "            svm_outputs[key].append(svc_train(X,y,kernel = kern, c = c_, g = g_, n = num_splits))"
   ]
  },
  {
   "cell_type": "code",
   "execution_count": 55,
   "metadata": {},
   "outputs": [],
   "source": [
    "#Let's get the best models\n",
    "top_models = {}\n",
    "for key in svm_outputs.keys():\n",
    "    maxi_test = 0\n",
    "    maxi_train = 0\n",
    "    for item in svm_outputs[key]:\n",
    "        if item[-1] >= maxi_test and item[-2] > maxi_train:\n",
    "            top_models[key] = item\n",
    "            maxi_test = item[-1]\n",
    "            maxi_train = item[-2]\n",
    "        elif item[-1] > maxi_test:\n",
    "            top_models[key] = item\n",
    "            maxi_test = item[-1]\n",
    "            maxi_train = item[-2]"
   ]
  },
  {
   "cell_type": "code",
   "execution_count": 67,
   "metadata": {},
   "outputs": [
    {
     "data": {
      "text/html": [
       "<div>\n",
       "<style scoped>\n",
       "    .dataframe tbody tr th:only-of-type {\n",
       "        vertical-align: middle;\n",
       "    }\n",
       "\n",
       "    .dataframe tbody tr th {\n",
       "        vertical-align: top;\n",
       "    }\n",
       "\n",
       "    .dataframe thead th {\n",
       "        text-align: right;\n",
       "    }\n",
       "</style>\n",
       "<table border=\"1\" class=\"dataframe\">\n",
       "  <thead>\n",
       "    <tr style=\"text-align: right;\">\n",
       "      <th></th>\n",
       "      <th>0.0001</th>\n",
       "      <th>0.001</th>\n",
       "      <th>0.01</th>\n",
       "      <th>0.1</th>\n",
       "      <th>1.0</th>\n",
       "      <th>10.0</th>\n",
       "      <th>100.0</th>\n",
       "    </tr>\n",
       "  </thead>\n",
       "  <tbody>\n",
       "    <tr>\n",
       "      <th>0.0001</th>\n",
       "      <td>0.699164</td>\n",
       "      <td>0.701117</td>\n",
       "      <td>0.689944</td>\n",
       "      <td>0.67688</td>\n",
       "      <td>0.67688</td>\n",
       "      <td>0.701117</td>\n",
       "      <td>0.701117</td>\n",
       "    </tr>\n",
       "    <tr>\n",
       "      <th>0.0010</th>\n",
       "      <td>0.668524</td>\n",
       "      <td>0.699164</td>\n",
       "      <td>0.665738</td>\n",
       "      <td>0.670391</td>\n",
       "      <td>0.67688</td>\n",
       "      <td>0.679666</td>\n",
       "      <td>0.684358</td>\n",
       "    </tr>\n",
       "    <tr>\n",
       "      <th>0.0100</th>\n",
       "      <td>0.693593</td>\n",
       "      <td>0.662953</td>\n",
       "      <td>0.668524</td>\n",
       "      <td>0.674095</td>\n",
       "      <td>0.668524</td>\n",
       "      <td>0.685237</td>\n",
       "      <td>0.679666</td>\n",
       "    </tr>\n",
       "    <tr>\n",
       "      <th>0.1000</th>\n",
       "      <td>0.674095</td>\n",
       "      <td>0.688022</td>\n",
       "      <td>0.689944</td>\n",
       "      <td>0.678771</td>\n",
       "      <td>0.679666</td>\n",
       "      <td>0.685237</td>\n",
       "      <td>0.684358</td>\n",
       "    </tr>\n",
       "    <tr>\n",
       "      <th>1.0000</th>\n",
       "      <td>0.67688</td>\n",
       "      <td>0.688022</td>\n",
       "      <td>0.693593</td>\n",
       "      <td>0.690808</td>\n",
       "      <td>0.662953</td>\n",
       "      <td>0.682451</td>\n",
       "      <td>0.660167</td>\n",
       "    </tr>\n",
       "    <tr>\n",
       "      <th>10.0000</th>\n",
       "      <td>0.696379</td>\n",
       "      <td>0.685237</td>\n",
       "      <td>0.689944</td>\n",
       "      <td>0.687151</td>\n",
       "      <td>0.675978</td>\n",
       "      <td>0.701117</td>\n",
       "      <td>0.696379</td>\n",
       "    </tr>\n",
       "    <tr>\n",
       "      <th>100.0000</th>\n",
       "      <td>0.674095</td>\n",
       "      <td>0.665738</td>\n",
       "      <td>0.690808</td>\n",
       "      <td>0.685237</td>\n",
       "      <td>0.690808</td>\n",
       "      <td>0.67688</td>\n",
       "      <td>0.684358</td>\n",
       "    </tr>\n",
       "  </tbody>\n",
       "</table>\n",
       "</div>"
      ],
      "text/plain": [
       "          0.0001    0.0010    0.0100    0.1000    1.0000    10.0000   100.0000\n",
       "0.0001    0.699164  0.701117  0.689944   0.67688   0.67688  0.701117  0.701117\n",
       "0.0010    0.668524  0.699164  0.665738  0.670391   0.67688  0.679666  0.684358\n",
       "0.0100    0.693593  0.662953  0.668524  0.674095  0.668524  0.685237  0.679666\n",
       "0.1000    0.674095  0.688022  0.689944  0.678771  0.679666  0.685237  0.684358\n",
       "1.0000     0.67688  0.688022  0.693593  0.690808  0.662953  0.682451  0.660167\n",
       "10.0000   0.696379  0.685237  0.689944  0.687151  0.675978  0.701117  0.696379\n",
       "100.0000  0.674095  0.665738  0.690808  0.685237  0.690808   0.67688  0.684358"
      ]
     },
     "execution_count": 67,
     "metadata": {},
     "output_type": "execute_result"
    }
   ],
   "source": [
    "#Let's generate a dataframe of C's and G's\n",
    "output_data = pd.DataFrame(index = gammaVals, columns = cVals)\n",
    "output_data\n",
    "for item in svm_outputs['snp']:\n",
    "    output_data[item[0]][item[1]] = item[-1]\n",
    "output_data"
   ]
  },
  {
   "cell_type": "code",
   "execution_count": 161,
   "metadata": {},
   "outputs": [],
   "source": [
    "#generate a table from the top_models dictionary\n",
    "ind = ['C_Param','Gamma','Train_Accuracy','Test_Accuracy']\n",
    "column = ['snp','gld','eur','usd','cbnd','tbnd']\n",
    "top_data = pd.DataFrame(index = ind, columns = column)\n",
    "for key in top_models.keys():\n",
    "    top_data[key]['C_Param'] = top_models[key][0]\n",
    "    top_data[key]['Gamma'] = top_models[key][1]\n",
    "    top_data[key]['Train_Accuracy'] = top_models[key][-2]\n",
    "    top_data[key]['Test_Accuracy'] = top_models[key][-1]"
   ]
  },
  {
   "cell_type": "code",
   "execution_count": 162,
   "metadata": {},
   "outputs": [
    {
     "data": {
      "text/html": [
       "<div>\n",
       "<style scoped>\n",
       "    .dataframe tbody tr th:only-of-type {\n",
       "        vertical-align: middle;\n",
       "    }\n",
       "\n",
       "    .dataframe tbody tr th {\n",
       "        vertical-align: top;\n",
       "    }\n",
       "\n",
       "    .dataframe thead th {\n",
       "        text-align: right;\n",
       "    }\n",
       "</style>\n",
       "<table border=\"1\" class=\"dataframe\">\n",
       "  <thead>\n",
       "    <tr style=\"text-align: right;\">\n",
       "      <th></th>\n",
       "      <th>snp</th>\n",
       "      <th>gld</th>\n",
       "      <th>eur</th>\n",
       "      <th>usd</th>\n",
       "      <th>cbnd</th>\n",
       "      <th>tbnd</th>\n",
       "    </tr>\n",
       "  </thead>\n",
       "  <tbody>\n",
       "    <tr>\n",
       "      <th>C_Param</th>\n",
       "      <td>10</td>\n",
       "      <td>0.001</td>\n",
       "      <td>1</td>\n",
       "      <td>0.0001</td>\n",
       "      <td>10</td>\n",
       "      <td>0.001</td>\n",
       "    </tr>\n",
       "    <tr>\n",
       "      <th>Gamma</th>\n",
       "      <td>10</td>\n",
       "      <td>0.01</td>\n",
       "      <td>100</td>\n",
       "      <td>100</td>\n",
       "      <td>1</td>\n",
       "      <td>0.01</td>\n",
       "    </tr>\n",
       "    <tr>\n",
       "      <th>Train_Accuracy</th>\n",
       "      <td>0.641176</td>\n",
       "      <td>0.530195</td>\n",
       "      <td>0.532053</td>\n",
       "      <td>0.504181</td>\n",
       "      <td>0.530341</td>\n",
       "      <td>0.527408</td>\n",
       "    </tr>\n",
       "    <tr>\n",
       "      <th>Test_Accuracy</th>\n",
       "      <td>0.701117</td>\n",
       "      <td>0.604457</td>\n",
       "      <td>0.579387</td>\n",
       "      <td>0.579387</td>\n",
       "      <td>0.614525</td>\n",
       "      <td>0.612813</td>\n",
       "    </tr>\n",
       "  </tbody>\n",
       "</table>\n",
       "</div>"
      ],
      "text/plain": [
       "                     snp       gld       eur       usd      cbnd      tbnd\n",
       "C_Param               10     0.001         1    0.0001        10     0.001\n",
       "Gamma                 10      0.01       100       100         1      0.01\n",
       "Train_Accuracy  0.641176  0.530195  0.532053  0.504181  0.530341  0.527408\n",
       "Test_Accuracy   0.701117  0.604457  0.579387  0.579387  0.614525  0.612813"
      ]
     },
     "execution_count": 162,
     "metadata": {},
     "output_type": "execute_result"
    }
   ],
   "source": [
    "top_data"
   ]
  },
  {
   "cell_type": "code",
   "execution_count": 71,
   "metadata": {},
   "outputs": [],
   "source": [
    "#Borrowed from https://jakevdp.github.io/PythonDataScienceHandbook/05.07-support-vector-machines.html\n",
    "\n",
    "def plot_svc_decision_function(model, ax = None, plot_support = True):\n",
    "    if ax is None:\n",
    "        ax = plt.gca()\n",
    "    xlim = ax.get_xlim()\n",
    "    ylim = ax.get_ylim()\n",
    "    \n",
    "    x = np.linspace(xlim[0], xlim[1], 30)\n",
    "    y = np.linspace(ylim[0], ylim[1], 30)\n",
    "    Y, X = np.meshgrid(y, x)\n",
    "    xy = np.vstack([X.ravel(), Y.ravel()]).T\n",
    "    P = model.decision_function(xy).reshape(X.shape)\n",
    "    ax.contour(X, Y, P, colors='k',\n",
    "               levels=[-1, 0, 1], alpha=0.5,\n",
    "               linestyles=['--', '-', '--'])\n",
    "    if plot_support:\n",
    "        ax.scatter(model.support_vectors_[:, 0],\n",
    "                   model.support_vectors_[:, 1],\n",
    "                   s=300, linewidth=1, facecolors='none');\n",
    "    ax.set_xlim(xlim)\n",
    "    ax.set_ylim(ylim)"
   ]
  },
  {
   "cell_type": "code",
   "execution_count": 76,
   "metadata": {},
   "outputs": [
    {
     "data": {
      "image/png": "[encoded data removed]",
      "text/plain": [
       "<Figure size 432x288 with 1 Axes>"
      ]
     },
     "metadata": {
      "needs_background": "light"
     },
     "output_type": "display_data"
    }
   ],
   "source": [
    "plt.scatter(asset_dict['snp'][:,0],asset_dict['snp'][:,1],c = dep_dict['snp'], cmap = 'autumn')\n",
    "plot_svc_decision_function(top_models['snp'][-3])"
   ]
  },
  {
   "cell_type": "code",
   "execution_count": 90,
   "metadata": {},
   "outputs": [
    {
     "data": {
      "application/vnd.jupyter.widget-view+json": {
       "model_id": "b7c4148118564f1da5f8b90fd6f132eb",
       "version_major": 2,
       "version_minor": 0
      },
      "text/plain": [
       "interactive(children=(Dropdown(description='elev', options=(-180, 180), value=-180), IntSlider(value=30, descr…"
      ]
     },
     "metadata": {},
     "output_type": "display_data"
    }
   ],
   "source": [
    "r = np.exp(-(asset_dict['snp'][0:50,:] ** 2).sum(1))\n",
    "\n",
    "from mpl_toolkits import mplot3d\n",
    "from ipywidgets import interact, fixed\n",
    "\n",
    "def plot_3D(elev=30, azim=30, X=X, y=y):\n",
    "    ax = plt.subplot(projection='3d')\n",
    "    ax.scatter3D(X[:, 0], X[:, 1], r, c=y, s=50, cmap='autumn')\n",
    "    ax.view_init(elev=elev, azim=azim)\n",
    "    ax.set_xlabel('x')\n",
    "    ax.set_ylabel('y')\n",
    "    ax.set_zlabel('r')\n",
    "\n",
    "interact(plot_3D, elev=[-180, 180], azip=[-180, 180],\n",
    "         X=fixed(asset_dict['snp'][0:50,:]), y=fixed(dep_dict['snp'][0:50]));\n",
    "\n",
    "#For optimal idea of sepparability check out azim = 74, elev = 180"
   ]
  },
  {
   "cell_type": "markdown",
   "metadata": {},
   "source": [
    "# Adding Results from ARIMA  to the dataset\n",
    "In this section, I will be appending the results from the ARIMA/GARCH Analysis and seeing whether the predicted ARIMA values relative to the actual values can do a better job. We will conclude by comparing results from the model with simple price volatility and price momentum and that with the third feature of arima predicted smoothed returns"
   ]
  },
  {
   "cell_type": "code",
   "execution_count": 103,
   "metadata": {},
   "outputs": [
    {
     "name": "stdout",
     "output_type": "stream",
     "text": [
      "2004-11-19 2019-04-17\n"
     ]
    },
    {
     "data": {
      "text/html": [
       "<div>\n",
       "<style scoped>\n",
       "    .dataframe tbody tr th:only-of-type {\n",
       "        vertical-align: middle;\n",
       "    }\n",
       "\n",
       "    .dataframe tbody tr th {\n",
       "        vertical-align: top;\n",
       "    }\n",
       "\n",
       "    .dataframe thead th {\n",
       "        text-align: right;\n",
       "    }\n",
       "</style>\n",
       "<table border=\"1\" class=\"dataframe\">\n",
       "  <thead>\n",
       "    <tr style=\"text-align: right;\">\n",
       "      <th></th>\n",
       "      <th>SNP_Close</th>\n",
       "      <th>GLD_Close</th>\n",
       "      <th>EUR_Close</th>\n",
       "      <th>USD_Close</th>\n",
       "      <th>CBND_Close</th>\n",
       "      <th>TBND_Close</th>\n",
       "    </tr>\n",
       "    <tr>\n",
       "      <th>Date</th>\n",
       "      <th></th>\n",
       "      <th></th>\n",
       "      <th></th>\n",
       "      <th></th>\n",
       "      <th></th>\n",
       "      <th></th>\n",
       "    </tr>\n",
       "  </thead>\n",
       "  <tbody>\n",
       "    <tr>\n",
       "      <th>2004-11-19</th>\n",
       "      <td>0.017103</td>\n",
       "      <td>-0.005183</td>\n",
       "      <td>-0.002932</td>\n",
       "      <td>0.011105</td>\n",
       "      <td>-0.000956</td>\n",
       "      <td>0.006198</td>\n",
       "    </tr>\n",
       "    <tr>\n",
       "      <th>2004-11-22</th>\n",
       "      <td>0.002731</td>\n",
       "      <td>-0.010884</td>\n",
       "      <td>-0.000402</td>\n",
       "      <td>0.006832</td>\n",
       "      <td>0.000705</td>\n",
       "      <td>0.001538</td>\n",
       "    </tr>\n",
       "    <tr>\n",
       "      <th>2004-11-23</th>\n",
       "      <td>0.006740</td>\n",
       "      <td>0.003716</td>\n",
       "      <td>0.004056</td>\n",
       "      <td>-0.002013</td>\n",
       "      <td>0.000046</td>\n",
       "      <td>0.003418</td>\n",
       "    </tr>\n",
       "    <tr>\n",
       "      <th>2004-11-24</th>\n",
       "      <td>0.000988</td>\n",
       "      <td>0.001590</td>\n",
       "      <td>0.004046</td>\n",
       "      <td>0.001103</td>\n",
       "      <td>-0.003149</td>\n",
       "      <td>-0.002383</td>\n",
       "    </tr>\n",
       "    <tr>\n",
       "      <th>2004-11-26</th>\n",
       "      <td>-0.003495</td>\n",
       "      <td>-0.001537</td>\n",
       "      <td>-0.006288</td>\n",
       "      <td>0.005859</td>\n",
       "      <td>-0.008109</td>\n",
       "      <td>-0.004627</td>\n",
       "    </tr>\n",
       "  </tbody>\n",
       "</table>\n",
       "</div>"
      ],
      "text/plain": [
       "            SNP_Close  GLD_Close  EUR_Close  USD_Close  CBND_Close  TBND_Close\n",
       "Date                                                                          \n",
       "2004-11-19   0.017103  -0.005183  -0.002932   0.011105   -0.000956    0.006198\n",
       "2004-11-22   0.002731  -0.010884  -0.000402   0.006832    0.000705    0.001538\n",
       "2004-11-23   0.006740   0.003716   0.004056  -0.002013    0.000046    0.003418\n",
       "2004-11-24   0.000988   0.001590   0.004046   0.001103   -0.003149   -0.002383\n",
       "2004-11-26  -0.003495  -0.001537  -0.006288   0.005859   -0.008109   -0.004627"
      ]
     },
     "execution_count": 103,
     "metadata": {},
     "output_type": "execute_result"
    }
   ],
   "source": [
    "arima_res = pd.read_csv(\"ResidualARIMAData.csv\")\n",
    "arima_res.set_index('Date', inplace = True)\n",
    "print(arima_res.index[0],arima_res.index[-1])\n",
    "arima_res.head()"
   ]
  },
  {
   "cell_type": "code",
   "execution_count": null,
   "metadata": {},
   "outputs": [],
   "source": [
    "#Conditions on the two new columns are as follows:\n",
    "#1. the data_range is (2004-23-12 to 2019-04-17) (As a result of smoothing + Garch cuts)\n",
    "#2. therefore must correct old data by cutting last two rows and update\n",
    "#new data by removing first 20 rows\n",
    "#3. then, consider the opportunities for smoothing (last n days var for ex.)\n",
    "#4. We will do a 20 day smoothing for variance and see how it impact the pred"
   ]
  },
  {
   "cell_type": "code",
   "execution_count": 100,
   "metadata": {},
   "outputs": [],
   "source": [
    "#Normalize each column\n",
    "# from sklearn import preprocessing\n",
    "# for column in arima_res:\n",
    "#     arima_res[column] = preprocessing.scale(arima_res[column].values)"
   ]
  },
  {
   "cell_type": "code",
   "execution_count": 104,
   "metadata": {},
   "outputs": [],
   "source": [
    "#Applying Smoothing to Arima_Residual Values\n",
    "n = 20\n",
    "i = 0\n",
    "res_df = pd.DataFrame(arima_res.index[n-1:])\n",
    "res_df.set_index('Date', inplace = True)\n",
    "res_ar = np.zeros(arima_res.shape[0] - n + 1)\n",
    "for column in arima_res:\n",
    "    residuals = arima_res[column].values\n",
    "    for j in range(arima_res.shape[0] - n +1):\n",
    "        res_ar[j] = np.average(residuals[j:j+n])\n",
    "    res_df[column] = res_ar"
   ]
  },
  {
   "cell_type": "code",
   "execution_count": 137,
   "metadata": {},
   "outputs": [
    {
     "name": "stdout",
     "output_type": "stream",
     "text": [
      "(3588, 3)\n"
     ]
    },
    {
     "data": {
      "text/html": [
       "<div>\n",
       "<style scoped>\n",
       "    .dataframe tbody tr th:only-of-type {\n",
       "        vertical-align: middle;\n",
       "    }\n",
       "\n",
       "    .dataframe tbody tr th {\n",
       "        vertical-align: top;\n",
       "    }\n",
       "\n",
       "    .dataframe thead th {\n",
       "        text-align: right;\n",
       "    }\n",
       "</style>\n",
       "<table border=\"1\" class=\"dataframe\">\n",
       "  <thead>\n",
       "    <tr style=\"text-align: right;\">\n",
       "      <th></th>\n",
       "      <th>snp</th>\n",
       "      <th>gld</th>\n",
       "      <th>eur</th>\n",
       "      <th>usd</th>\n",
       "      <th>cbnd</th>\n",
       "      <th>tbnd</th>\n",
       "    </tr>\n",
       "    <tr>\n",
       "      <th>Date</th>\n",
       "      <th></th>\n",
       "      <th></th>\n",
       "      <th></th>\n",
       "      <th></th>\n",
       "      <th></th>\n",
       "      <th></th>\n",
       "    </tr>\n",
       "  </thead>\n",
       "  <tbody>\n",
       "    <tr>\n",
       "      <th>2004-12-17</th>\n",
       "      <td>0.001633</td>\n",
       "      <td>-0.002300</td>\n",
       "      <td>-0.001450</td>\n",
       "      <td>0.002241</td>\n",
       "      <td>-0.000098</td>\n",
       "      <td>0.001361</td>\n",
       "    </tr>\n",
       "    <tr>\n",
       "      <th>2004-12-20</th>\n",
       "      <td>0.001216</td>\n",
       "      <td>-0.002152</td>\n",
       "      <td>-0.001481</td>\n",
       "      <td>0.001820</td>\n",
       "      <td>-0.000017</td>\n",
       "      <td>0.001134</td>\n",
       "    </tr>\n",
       "    <tr>\n",
       "      <th>2004-12-21</th>\n",
       "      <td>0.001295</td>\n",
       "      <td>-0.001856</td>\n",
       "      <td>-0.001468</td>\n",
       "      <td>0.001398</td>\n",
       "      <td>0.000018</td>\n",
       "      <td>0.001022</td>\n",
       "    </tr>\n",
       "    <tr>\n",
       "      <th>2004-12-22</th>\n",
       "      <td>0.000915</td>\n",
       "      <td>-0.001740</td>\n",
       "      <td>-0.001286</td>\n",
       "      <td>0.001181</td>\n",
       "      <td>0.000119</td>\n",
       "      <td>0.000789</td>\n",
       "    </tr>\n",
       "    <tr>\n",
       "      <th>2004-12-23</th>\n",
       "      <td>0.000584</td>\n",
       "      <td>-0.001589</td>\n",
       "      <td>-0.001218</td>\n",
       "      <td>0.000891</td>\n",
       "      <td>0.000008</td>\n",
       "      <td>0.000705</td>\n",
       "    </tr>\n",
       "  </tbody>\n",
       "</table>\n",
       "</div>"
      ],
      "text/plain": [
       "                 snp       gld       eur       usd      cbnd      tbnd\n",
       "Date                                                                  \n",
       "2004-12-17  0.001633 -0.002300 -0.001450  0.002241 -0.000098  0.001361\n",
       "2004-12-20  0.001216 -0.002152 -0.001481  0.001820 -0.000017  0.001134\n",
       "2004-12-21  0.001295 -0.001856 -0.001468  0.001398  0.000018  0.001022\n",
       "2004-12-22  0.000915 -0.001740 -0.001286  0.001181  0.000119  0.000789\n",
       "2004-12-23  0.000584 -0.001589 -0.001218  0.000891  0.000008  0.000705"
      ]
     },
     "execution_count": 137,
     "metadata": {},
     "output_type": "execute_result"
    }
   ],
   "source": [
    "print(asset_dict['snp'].shape)\n",
    "res_df.columns = ['snp','gld','eur','usd','cbnd','tbnd']\n",
    "res_df.head()"
   ]
  },
  {
   "cell_type": "code",
   "execution_count": 135,
   "metadata": {},
   "outputs": [],
   "source": [
    "for key in asset_dict.keys():\n",
    "    asset_dict[key] = np.hstack((asset_dict[key],res_df[key][:-19].values.reshape(res_df.shape[0]-19,1)))"
   ]
  },
  {
   "cell_type": "code",
   "execution_count": 301,
   "metadata": {},
   "outputs": [],
   "source": [
    "output_data = np.vstack((asset_dict['snp'],asset_dict['eur'],asset_dict['gld'],asset_dict['tbnd']))"
   ]
  },
  {
   "cell_type": "code",
   "execution_count": 303,
   "metadata": {},
   "outputs": [],
   "source": [
    "#Qucickly create for export(kmeans)\n",
    "class_num = 4\n",
    "out_dep = np.zeros(output_data.shape[0])\n",
    "occur = 0\n",
    "for j in range(class_num):\n",
    "    out_dep[asset_dict['snp'].shape[0]*j:asset_dict['snp'].shape[0]*(j+1)] = j\n",
    "    "
   ]
  },
  {
   "cell_type": "code",
   "execution_count": 306,
   "metadata": {},
   "outputs": [],
   "source": [
    "out_dep = out_dep.reshape(out_dep.shape[0],1)\n",
    "csv_data = np.hstack((output_data,out_dep))"
   ]
  },
  {
   "cell_type": "code",
   "execution_count": 308,
   "metadata": {},
   "outputs": [],
   "source": [
    "output_df = pd.DataFrame(csv_data)\n",
    "output_df.to_csv('kmeans_df.csv')"
   ]
  },
  {
   "cell_type": "code",
   "execution_count": 138,
   "metadata": {},
   "outputs": [],
   "source": [
    "svm_updated_outputs = {'snp':[],'gld':[],'eur':[],'usd':[],'cbnd':[],'tbnd':[]}\n",
    "cVals = [0.0001, 0.001, 0.01, 0.1, 1, 10, 100]\n",
    "gammaVals = [0.0001, 0.001, 0.01, 0.1, 1, 10, 100]\n",
    "kern = \"rbf\"\n",
    "num_splits = 10\n",
    "for key in dep_dict.keys():\n",
    "    X = asset_dict[key]\n",
    "    y = dep_dict[key]\n",
    "    for c_ in cVals:\n",
    "        for g_ in gammaVals:\n",
    "            svm_updated_outputs[key].append(svc_train(X,y,kernel = kern, c = c_, g = g_, n = num_splits))"
   ]
  },
  {
   "cell_type": "code",
   "execution_count": 139,
   "metadata": {},
   "outputs": [],
   "source": [
    "top_updated_models = {}\n",
    "for key in svm_updated_outputs.keys():\n",
    "    maxi_test = 0\n",
    "    maxi_train = 0\n",
    "    for item in svm_updated_outputs[key]:\n",
    "        if item[-1] >= maxi_test and item[-2] > maxi_train:\n",
    "            top_updated_models[key] = item\n",
    "            maxi_test = item[-1]\n",
    "            maxi_train = item[-2]\n",
    "        elif item[-1] > maxi_test:\n",
    "            top_updated_models[key] = item\n",
    "            maxi_test = item[-1]\n",
    "            maxi_train = item[-2]"
   ]
  },
  {
   "cell_type": "code",
   "execution_count": 159,
   "metadata": {},
   "outputs": [],
   "source": [
    "#generate a table from the top_models dictionary\n",
    "ind = ['C_Param','Gamma','Train_Accuracy','Test_Accuracy']\n",
    "column = ['snp','gld','eur','usd','cbnd','tbnd']\n",
    "top_updated_data = pd.DataFrame(index = ind, columns = column)\n",
    "for key in top_updated_models.keys():\n",
    "    top_updated_data[key]['C_Param'] = top_updated_models[key][0]\n",
    "    top_updated_data[key]['Gamma'] = top_updated_models[key][1]\n",
    "    top_updated_data[key]['Train_Accuracy'] = top_updated_models[key][-2]\n",
    "    top_updated_data[key]['Test_Accuracy'] = top_updated_models[key][-1]"
   ]
  },
  {
   "cell_type": "code",
   "execution_count": 323,
   "metadata": {},
   "outputs": [
    {
     "data": {
      "text/html": [
       "<div>\n",
       "<style scoped>\n",
       "    .dataframe tbody tr th:only-of-type {\n",
       "        vertical-align: middle;\n",
       "    }\n",
       "\n",
       "    .dataframe tbody tr th {\n",
       "        vertical-align: top;\n",
       "    }\n",
       "\n",
       "    .dataframe thead th {\n",
       "        text-align: right;\n",
       "    }\n",
       "</style>\n",
       "<table border=\"1\" class=\"dataframe\">\n",
       "  <thead>\n",
       "    <tr style=\"text-align: right;\">\n",
       "      <th></th>\n",
       "      <th>S&amp;P 500</th>\n",
       "      <th>Gold</th>\n",
       "      <th>EUR/USD</th>\n",
       "      <th>USD/JPN</th>\n",
       "      <th>Corp_Bonds</th>\n",
       "      <th>Treas_Bonds</th>\n",
       "    </tr>\n",
       "  </thead>\n",
       "  <tbody>\n",
       "    <tr>\n",
       "      <th>C_Param</th>\n",
       "      <td>100</td>\n",
       "      <td>0.0001</td>\n",
       "      <td>100</td>\n",
       "      <td>1</td>\n",
       "      <td>10</td>\n",
       "      <td>0.001</td>\n",
       "    </tr>\n",
       "    <tr>\n",
       "      <th>Gamma</th>\n",
       "      <td>0.0001</td>\n",
       "      <td>0.001</td>\n",
       "      <td>100</td>\n",
       "      <td>0.001</td>\n",
       "      <td>0.1</td>\n",
       "      <td>1</td>\n",
       "    </tr>\n",
       "    <tr>\n",
       "      <th>Train_Accuracy</th>\n",
       "      <td>0.638278</td>\n",
       "      <td>0.529412</td>\n",
       "      <td>0.560855</td>\n",
       "      <td>0.504644</td>\n",
       "      <td>0.531124</td>\n",
       "      <td>0.527554</td>\n",
       "    </tr>\n",
       "    <tr>\n",
       "      <th>Test_Accuracy</th>\n",
       "      <td>0.713092</td>\n",
       "      <td>0.611732</td>\n",
       "      <td>0.598886</td>\n",
       "      <td>0.575419</td>\n",
       "      <td>0.612813</td>\n",
       "      <td>0.611732</td>\n",
       "    </tr>\n",
       "  </tbody>\n",
       "</table>\n",
       "</div>"
      ],
      "text/plain": [
       "                 S&P 500      Gold   EUR/USD   USD/JPN Corp_Bonds Treas_Bonds\n",
       "C_Param              100    0.0001       100         1         10       0.001\n",
       "Gamma             0.0001     0.001       100     0.001        0.1           1\n",
       "Train_Accuracy  0.638278  0.529412  0.560855  0.504644   0.531124    0.527554\n",
       "Test_Accuracy   0.713092  0.611732  0.598886  0.575419   0.612813    0.611732"
      ]
     },
     "execution_count": 323,
     "metadata": {},
     "output_type": "execute_result"
    }
   ],
   "source": [
    "columns = ['S&P 500', 'Gold', \"EUR/USD\", \"USD/JPN\", \"Corp_Bonds\", \"Treas_Bonds\"]\n",
    "top_updated_data.columns = columns\n",
    "top_updated_data"
   ]
  },
  {
   "cell_type": "code",
   "execution_count": 158,
   "metadata": {},
   "outputs": [],
   "source": [
    "#It seems to have added relatively important information (in finance a 1% increase can be worth loads of money)"
   ]
  },
  {
   "cell_type": "code",
   "execution_count": 322,
   "metadata": {},
   "outputs": [
    {
     "data": {
      "text/html": [
       "<div>\n",
       "<style scoped>\n",
       "    .dataframe tbody tr th:only-of-type {\n",
       "        vertical-align: middle;\n",
       "    }\n",
       "\n",
       "    .dataframe tbody tr th {\n",
       "        vertical-align: top;\n",
       "    }\n",
       "\n",
       "    .dataframe thead th {\n",
       "        text-align: right;\n",
       "    }\n",
       "</style>\n",
       "<table border=\"1\" class=\"dataframe\">\n",
       "  <thead>\n",
       "    <tr style=\"text-align: right;\">\n",
       "      <th></th>\n",
       "      <th>S&amp;P 500</th>\n",
       "      <th>Gold</th>\n",
       "      <th>EUR/USD</th>\n",
       "      <th>USD/JPN</th>\n",
       "      <th>Corp_Bonds</th>\n",
       "      <th>Treas_Bonds</th>\n",
       "    </tr>\n",
       "  </thead>\n",
       "  <tbody>\n",
       "    <tr>\n",
       "      <th>C_Param</th>\n",
       "      <td>10</td>\n",
       "      <td>0.001</td>\n",
       "      <td>1</td>\n",
       "      <td>0.0001</td>\n",
       "      <td>10</td>\n",
       "      <td>0.001</td>\n",
       "    </tr>\n",
       "    <tr>\n",
       "      <th>Gamma</th>\n",
       "      <td>10</td>\n",
       "      <td>0.01</td>\n",
       "      <td>100</td>\n",
       "      <td>100</td>\n",
       "      <td>1</td>\n",
       "      <td>0.01</td>\n",
       "    </tr>\n",
       "    <tr>\n",
       "      <th>Train_Accuracy</th>\n",
       "      <td>0.641176</td>\n",
       "      <td>0.530195</td>\n",
       "      <td>0.532053</td>\n",
       "      <td>0.504181</td>\n",
       "      <td>0.530341</td>\n",
       "      <td>0.527408</td>\n",
       "    </tr>\n",
       "    <tr>\n",
       "      <th>Test_Accuracy</th>\n",
       "      <td>0.701117</td>\n",
       "      <td>0.604457</td>\n",
       "      <td>0.579387</td>\n",
       "      <td>0.579387</td>\n",
       "      <td>0.614525</td>\n",
       "      <td>0.612813</td>\n",
       "    </tr>\n",
       "  </tbody>\n",
       "</table>\n",
       "</div>"
      ],
      "text/plain": [
       "                 S&P 500      Gold   EUR/USD   USD/JPN Corp_Bonds Treas_Bonds\n",
       "C_Param               10     0.001         1    0.0001         10       0.001\n",
       "Gamma                 10      0.01       100       100          1        0.01\n",
       "Train_Accuracy  0.641176  0.530195  0.532053  0.504181   0.530341    0.527408\n",
       "Test_Accuracy   0.701117  0.604457  0.579387  0.579387   0.614525    0.612813"
      ]
     },
     "execution_count": 322,
     "metadata": {},
     "output_type": "execute_result"
    }
   ],
   "source": [
    "columns = ['S&P 500', 'Gold', \"EUR/USD\", \"USD/JPN\", \"Corp_Bonds\", \"Treas_Bonds\"]\n",
    "top_data.columns = columns\n",
    "top_data"
   ]
  },
  {
   "cell_type": "markdown",
   "metadata": {},
   "source": [
    "# Applying Bitcoin Returns to SVM Classifiers\n",
    "\n",
    "In this section, I will import bitcoin returns and run the SVM Classifiers top_models generated from before to see how well these models can predict bitcoin returns to shed light on relationships between BTC and some of these datapoints."
   ]
  },
  {
   "cell_type": "code",
   "execution_count": 246,
   "metadata": {},
   "outputs": [],
   "source": [
    "btc = pd.read_csv(\"BTC_Final.csv\")"
   ]
  },
  {
   "cell_type": "code",
   "execution_count": 247,
   "metadata": {},
   "outputs": [
    {
     "name": "stdout",
     "output_type": "stream",
     "text": [
      "(3200, 1)\n"
     ]
    },
    {
     "data": {
      "text/html": [
       "<div>\n",
       "<style scoped>\n",
       "    .dataframe tbody tr th:only-of-type {\n",
       "        vertical-align: middle;\n",
       "    }\n",
       "\n",
       "    .dataframe tbody tr th {\n",
       "        vertical-align: top;\n",
       "    }\n",
       "\n",
       "    .dataframe thead th {\n",
       "        text-align: right;\n",
       "    }\n",
       "</style>\n",
       "<table border=\"1\" class=\"dataframe\">\n",
       "  <thead>\n",
       "    <tr style=\"text-align: right;\">\n",
       "      <th></th>\n",
       "      <th>BTC_Close</th>\n",
       "    </tr>\n",
       "    <tr>\n",
       "      <th>Date</th>\n",
       "      <th></th>\n",
       "    </tr>\n",
       "  </thead>\n",
       "  <tbody>\n",
       "    <tr>\n",
       "      <th>2010-07-17</th>\n",
       "      <td>0.550310</td>\n",
       "    </tr>\n",
       "    <tr>\n",
       "      <th>2010-07-18</th>\n",
       "      <td>-0.060508</td>\n",
       "    </tr>\n",
       "    <tr>\n",
       "      <th>2010-07-19</th>\n",
       "      <td>-0.077962</td>\n",
       "    </tr>\n",
       "    <tr>\n",
       "      <th>2010-07-20</th>\n",
       "      <td>0.058087</td>\n",
       "    </tr>\n",
       "    <tr>\n",
       "      <th>2010-07-21</th>\n",
       "      <td>-0.450129</td>\n",
       "    </tr>\n",
       "  </tbody>\n",
       "</table>\n",
       "</div>"
      ],
      "text/plain": [
       "            BTC_Close\n",
       "Date                 \n",
       "2010-07-17   0.550310\n",
       "2010-07-18  -0.060508\n",
       "2010-07-19  -0.077962\n",
       "2010-07-20   0.058087\n",
       "2010-07-21  -0.450129"
      ]
     },
     "execution_count": 247,
     "metadata": {},
     "output_type": "execute_result"
    }
   ],
   "source": [
    "btc.head()\n",
    "btc.set_index('Date',inplace = True)\n",
    "column = ['BTC_Volume']\n",
    "btc.drop(column, inplace = True, axis = 1)\n",
    "print(btc.shape)\n",
    "btc.head()"
   ]
  },
  {
   "cell_type": "code",
   "execution_count": 248,
   "metadata": {},
   "outputs": [],
   "source": [
    "n = 30 #Monthly Smoothing \n",
    "btc_vm = pd.DataFrame(btc.index[n-1:])\n",
    "\n",
    "btc_vm.set_index('Date',inplace = True)\n",
    "\n",
    "vol_ar = np.zeros(btc.shape[0] - n + 1)\n",
    "mom_ar = np.zeros(btc.shape[0] - n + 1)\n",
    "\n",
    "prices = btc['BTC_Close'].values\n",
    "\n",
    "temp_mom = np.zeros(btc.shape[0])\n",
    "\n",
    "for d in range(btc.shape[0]):\n",
    "    if prices[d] > 0:\n",
    "        temp_mom[d] = 1\n",
    "    elif prices[d] < 0:\n",
    "        temp_mom[d] = -1\n",
    "for j in range(btc.shape[0]-n+1):\n",
    "    vol_ar[j] = np.average(prices[j:j+n])\n",
    "    mom_ar[j] = np.average(temp_mom[j:j+n])\n",
    "btc_vm['BTC Vol'] = vol_ar\n",
    "btc_vm['BTC Moment'] = mom_ar"
   ]
  },
  {
   "cell_type": "code",
   "execution_count": 249,
   "metadata": {},
   "outputs": [
    {
     "data": {
      "text/plain": [
       "(3171, 2)"
      ]
     },
     "execution_count": 249,
     "metadata": {},
     "output_type": "execute_result"
    }
   ],
   "source": [
    "btc_vm.shape"
   ]
  },
  {
   "cell_type": "code",
   "execution_count": 250,
   "metadata": {},
   "outputs": [
    {
     "data": {
      "text/plain": [
       "(3200, 1)"
      ]
     },
     "execution_count": 250,
     "metadata": {},
     "output_type": "execute_result"
    }
   ],
   "source": [
    "#Need to import original price data to extract dependent array\n",
    "btc_price = pd.read_csv('BTC_Prices.csv')\n",
    "btc_price.set_index('Date', inplace = True)\n",
    "column = ['BTC_Volume']\n",
    "btc_price.drop(column, inplace = True, axis = 1)\n",
    "btc_price.drop(btc_price.index[0], axis = 0, inplace = True)\n",
    "btc_price.shape"
   ]
  },
  {
   "cell_type": "code",
   "execution_count": 251,
   "metadata": {},
   "outputs": [],
   "source": [
    "btc_dep = pd.DataFrame()\n",
    "temp_arr = np.zeros(btc_price.shape[0] - n)\n",
    "btc_temp = btc_price['BTC_Close'].values\n",
    "for j in range(btc_price.shape[0] - n):\n",
    "    if btc_temp[j] < btc_temp[j+n]:\n",
    "        temp_arr[j] = 1\n",
    "    else:\n",
    "        temp_arr[j] = -1\n",
    "btc_dep['BTC_dep'] = temp_arr"
   ]
  },
  {
   "cell_type": "code",
   "execution_count": 252,
   "metadata": {},
   "outputs": [],
   "source": [
    "btc_dep.set_index(btc_price.index[0:-n], inplace = True)\n",
    "btc_dep.drop(btc_dep.index[0:n], axis = 0, inplace = True)"
   ]
  },
  {
   "cell_type": "code",
   "execution_count": 253,
   "metadata": {},
   "outputs": [
    {
     "data": {
      "text/html": [
       "<div>\n",
       "<style scoped>\n",
       "    .dataframe tbody tr th:only-of-type {\n",
       "        vertical-align: middle;\n",
       "    }\n",
       "\n",
       "    .dataframe tbody tr th {\n",
       "        vertical-align: top;\n",
       "    }\n",
       "\n",
       "    .dataframe thead th {\n",
       "        text-align: right;\n",
       "    }\n",
       "</style>\n",
       "<table border=\"1\" class=\"dataframe\">\n",
       "  <thead>\n",
       "    <tr style=\"text-align: right;\">\n",
       "      <th></th>\n",
       "      <th>BTC_dep</th>\n",
       "    </tr>\n",
       "    <tr>\n",
       "      <th>Date</th>\n",
       "      <th></th>\n",
       "    </tr>\n",
       "  </thead>\n",
       "  <tbody>\n",
       "    <tr>\n",
       "      <th>2010-08-16</th>\n",
       "      <td>-1.0</td>\n",
       "    </tr>\n",
       "    <tr>\n",
       "      <th>2010-08-17</th>\n",
       "      <td>-1.0</td>\n",
       "    </tr>\n",
       "    <tr>\n",
       "      <th>2010-08-18</th>\n",
       "      <td>-1.0</td>\n",
       "    </tr>\n",
       "    <tr>\n",
       "      <th>2010-08-19</th>\n",
       "      <td>-1.0</td>\n",
       "    </tr>\n",
       "    <tr>\n",
       "      <th>2010-08-20</th>\n",
       "      <td>-1.0</td>\n",
       "    </tr>\n",
       "  </tbody>\n",
       "</table>\n",
       "</div>"
      ],
      "text/plain": [
       "            BTC_dep\n",
       "Date               \n",
       "2010-08-16     -1.0\n",
       "2010-08-17     -1.0\n",
       "2010-08-18     -1.0\n",
       "2010-08-19     -1.0\n",
       "2010-08-20     -1.0"
      ]
     },
     "execution_count": 253,
     "metadata": {},
     "output_type": "execute_result"
    }
   ],
   "source": [
    "#Check to see if actually a month off (Correct)\n",
    "btc_dep.head()"
   ]
  },
  {
   "cell_type": "code",
   "execution_count": 254,
   "metadata": {},
   "outputs": [],
   "source": [
    "#Importing Arima Predictions for BTC\n",
    "btc_arima = pd.read_csv(\"BTC_Arima_Residuals.csv\")\n",
    "btc_arima.set_index('Date', inplace = True)"
   ]
  },
  {
   "cell_type": "code",
   "execution_count": 262,
   "metadata": {},
   "outputs": [
    {
     "data": {
      "text/plain": [
       "(1771, 2)"
      ]
     },
     "execution_count": 262,
     "metadata": {},
     "output_type": "execute_result"
    }
   ],
   "source": [
    "btc_vm_update = btc_vm.iloc[1400:,:]\n",
    "btc_update_dep = btc_dep.iloc[1369:]\n",
    "btc_vm_update.shape"
   ]
  },
  {
   "cell_type": "code",
   "execution_count": 256,
   "metadata": {},
   "outputs": [],
   "source": [
    "n = 30\n",
    "i = 0\n",
    "btc_arima_df = pd.DataFrame(btc_arima.index[n-1:])\n",
    "btc_arima_df.set_index('Date', inplace = True)\n",
    "res_ar = np.zeros(btc_arima.shape[0] - n + 1)\n",
    "\n",
    "residuals = btc_arima['BTC_Res'].values\n",
    "for j in range(btc_arima.shape[0] - n +1):\n",
    "    res_ar[j] = np.average(residuals[j:j+n])\n",
    "btc_arima_df['BTC_Res'] = res_ar"
   ]
  },
  {
   "cell_type": "code",
   "execution_count": 257,
   "metadata": {},
   "outputs": [
    {
     "data": {
      "text/plain": [
       "0.010108795175013502"
      ]
     },
     "execution_count": 257,
     "metadata": {},
     "output_type": "execute_result"
    }
   ],
   "source": [
    "#Checking math\n",
    "np.average(btc_arima.iloc[1:31,0])"
   ]
  },
  {
   "cell_type": "code",
   "execution_count": 258,
   "metadata": {},
   "outputs": [
    {
     "data": {
      "text/plain": [
       "(1771, 1)"
      ]
     },
     "execution_count": 258,
     "metadata": {},
     "output_type": "execute_result"
    }
   ],
   "source": [
    "btc_arima_df.shape"
   ]
  },
  {
   "cell_type": "code",
   "execution_count": 259,
   "metadata": {},
   "outputs": [],
   "source": [
    "#Hstacking to get test data\n",
    "\n",
    "BTC_final = np.hstack((btc_vm_update['BTC Vol'].values.reshape(btc_vm_update.shape[0],1),btc_vm_update['BTC Moment'].values.reshape(btc_vm_update.shape[0],1),btc_arima_df['BTC_Res'].values.reshape(btc_vm_update.shape[0],1)))"
   ]
  },
  {
   "cell_type": "code",
   "execution_count": 280,
   "metadata": {},
   "outputs": [
    {
     "data": {
      "text/plain": [
       "{'snp': (100, 0.0001, SVC(C=100, cache_size=200, class_weight=None, coef0=0.0,\n",
       "    decision_function_shape='ovr', degree=3, gamma=0.0001, kernel='rbf',\n",
       "    max_iter=-1, probability=False, random_state=None, shrinking=True,\n",
       "    tol=0.001, verbose=False), 0.6382781046763704, 0.713091922005571),\n",
       " 'gld': (0.0001,\n",
       "  0.001,\n",
       "  SVC(C=0.0001, cache_size=200, class_weight=None, coef0=0.0,\n",
       "    decision_function_shape='ovr', degree=3, gamma=0.001, kernel='rbf',\n",
       "    max_iter=-1, probability=False, random_state=None, shrinking=True,\n",
       "    tol=0.001, verbose=False),\n",
       "  0.5294117647058824,\n",
       "  0.611731843575419),\n",
       " 'eur': (100, 100, SVC(C=100, cache_size=200, class_weight=None, coef0=0.0,\n",
       "    decision_function_shape='ovr', degree=3, gamma=100, kernel='rbf',\n",
       "    max_iter=-1, probability=False, random_state=None, shrinking=True,\n",
       "    tol=0.001, verbose=False), 0.5608547537937442, 0.5988857938718662),\n",
       " 'usd': (1, 0.001, SVC(C=1, cache_size=200, class_weight=None, coef0=0.0,\n",
       "    decision_function_shape='ovr', degree=3, gamma=0.001, kernel='rbf',\n",
       "    max_iter=-1, probability=False, random_state=None, shrinking=True,\n",
       "    tol=0.001, verbose=False), 0.5046439628482973, 0.5754189944134078),\n",
       " 'cbnd': (10, 0.1, SVC(C=10, cache_size=200, class_weight=None, coef0=0.0,\n",
       "    decision_function_shape='ovr', degree=3, gamma=0.1, kernel='rbf',\n",
       "    max_iter=-1, probability=False, random_state=None, shrinking=True,\n",
       "    tol=0.001, verbose=False), 0.5311241870548157, 0.6128133704735376),\n",
       " 'tbnd': (0.001, 1, SVC(C=0.001, cache_size=200, class_weight=None, coef0=0.0,\n",
       "    decision_function_shape='ovr', degree=3, gamma=1, kernel='rbf',\n",
       "    max_iter=-1, probability=False, random_state=None, shrinking=True,\n",
       "    tol=0.001, verbose=False), 0.5275541795665635, 0.611731843575419)}"
      ]
     },
     "execution_count": 280,
     "metadata": {},
     "output_type": "execute_result"
    }
   ],
   "source": [
    "#Now testing BTC on the top_model svc\n",
    "btc_update_dep = btc_update_dep['BTC_dep'].values"
   ]
  },
  {
   "cell_type": "code",
   "execution_count": 335,
   "metadata": {},
   "outputs": [],
   "source": [
    "X_train, X_test, y_train, y_test = train_test_split(BTC_final,btc_update_dep,test_size = 0.1)"
   ]
  },
  {
   "cell_type": "code",
   "execution_count": 336,
   "metadata": {},
   "outputs": [],
   "source": [
    "model_updated_output = {}\n",
    "for key in top_updated_models.keys():\n",
    "        svc_kernel = top_updated_models[key][-3]\n",
    "        \n",
    "        #Training Accuracy\n",
    "        yhat_train = svc_kernel.predict(X_train)\n",
    "\n",
    "        acc_train = np.mean(yhat_train == y_train)\n",
    "        \n",
    "        #Testing Accuracy\n",
    "        yhat_test = svc_kernel.predict(X_test)\n",
    "        acc_test = np.mean(yhat_test == y_test)\n",
    "        \n",
    "        model_updated_output[key + ' BTC'] = (acc_train, acc_test)"
   ]
  },
  {
   "cell_type": "code",
   "execution_count": 337,
   "metadata": {},
   "outputs": [
    {
     "data": {
      "text/plain": [
       "{'snp BTC': (0.5637162586315129, 0.6067415730337079),\n",
       " 'gld BTC': (0.5637162586315129, 0.6067415730337079),\n",
       " 'eur BTC': (0.6949152542372882, 0.6741573033707865),\n",
       " 'usd BTC': (0.5637162586315129, 0.6067415730337079),\n",
       " 'cbnd BTC': (0.5021971123666039, 0.5674157303370787),\n",
       " 'tbnd BTC': (0.5637162586315129, 0.6067415730337079)}"
      ]
     },
     "execution_count": 337,
     "metadata": {},
     "output_type": "execute_result"
    }
   ],
   "source": [
    "model_updated_output"
   ]
  },
  {
   "cell_type": "code",
   "execution_count": 288,
   "metadata": {},
   "outputs": [],
   "source": [
    "X_train, X_test, y_train, y_test = train_test_split(BTC_final[:,0:2],btc_update_dep,test_size = 0.1)"
   ]
  },
  {
   "cell_type": "code",
   "execution_count": 290,
   "metadata": {},
   "outputs": [],
   "source": [
    "model_output = {}\n",
    "for key in top_models.keys():\n",
    "        svc_kernel = top_models[key][-3]\n",
    "        \n",
    "        #Training Accuracy\n",
    "        yhat_train = svc_kernel.predict(X_train)\n",
    "\n",
    "        acc_train = np.mean(yhat_train == y_train)\n",
    "        \n",
    "        #Testing Accuracy\n",
    "        yhat_test = svc_kernel.predict(X_test)\n",
    "        acc_test = np.mean(yhat_test == y_test)\n",
    "        \n",
    "        model_output[key + ' BTC'] = (acc_train, acc_test)"
   ]
  },
  {
   "cell_type": "code",
   "execution_count": 291,
   "metadata": {},
   "outputs": [
    {
     "data": {
      "text/plain": [
       "{'snp BTC': (0.5674827369742624, 0.5955056179775281),\n",
       " 'gld BTC': (0.5655994978028877, 0.5898876404494382),\n",
       " 'eur BTC': (0.37602008788449465, 0.33146067415730335),\n",
       " 'usd BTC': (0.5655994978028877, 0.5898876404494382),\n",
       " 'cbnd BTC': (0.4745762711864407, 0.47191011235955055),\n",
       " 'tbnd BTC': (0.5655994978028877, 0.5898876404494382)}"
      ]
     },
     "execution_count": 291,
     "metadata": {},
     "output_type": "execute_result"
    }
   ],
   "source": [
    "model_output"
   ]
  },
  {
   "cell_type": "code",
   "execution_count": null,
   "metadata": {},
   "outputs": [],
   "source": [
    "ind = ['C_Param','Gamma','Train_Accuracy','Test_Accuracy']\n",
    "column = ['snp','gld','eur','usd','cbnd','tbnd']\n",
    "top_updated_data = pd.DataFrame(index = ind, columns = column)\n",
    "for key in top_updated_models.keys():\n",
    "    top_updated_data[key]['C_Param'] = top_updated_models[key][0]\n",
    "    top_updated_data[key]['Gamma'] = top_updated_models[key][1]\n",
    "    top_updated_data[key]['Train_Accuracy'] = top_updated_models[key][-2]\n",
    "    top_updated_data[key]['Test_Accuracy'] = top_updated_models[key][-1]"
   ]
  },
  {
   "cell_type": "code",
   "execution_count": 346,
   "metadata": {},
   "outputs": [],
   "source": [
    "#Generating 2 Feature TABLE\n",
    "ind = ['C_Param','Gamma','Bitcoin Train_Accuracy','Bitcoin Test_Accuracy']\n",
    "column = ['snp','gld','eur','usd','cbnd','tbnd']\n",
    "btc_table = pd.DataFrame(index = ind, columns = column)\n",
    "for key in top_updated_models.keys():\n",
    "    btc_table[key]['C_Param'] = top_models[key][0]\n",
    "    btc_table[key]['Gamma'] = top_models[key][1]\n",
    "    btc_table[key]['Bitcoin Train_Accuracy'] = model_output[key + ' BTC'][0]\n",
    "    btc_table[key]['Bitcoin Test_Accuracy'] = model_output[key + ' BTC'][1]"
   ]
  },
  {
   "cell_type": "code",
   "execution_count": 347,
   "metadata": {},
   "outputs": [],
   "source": [
    "#Generating 3 Feature TABLE\n",
    "ind = ['C_Param','Gamma','Bitcoin Train_Accuracy','Bitcoin Test_Accuracy']\n",
    "column = ['snp','gld','eur','usd','cbnd','tbnd']\n",
    "btc_table_update = pd.DataFrame(index = ind, columns = column)\n",
    "for key in top_updated_models.keys():\n",
    "    btc_table_update[key]['C_Param'] = top_updated_models[key][0]\n",
    "    btc_table_update[key]['Gamma'] = top_updated_models[key][1]\n",
    "    btc_table_update[key]['Bitcoin Train_Accuracy'] = model_updated_output[key + ' BTC'][0]\n",
    "    btc_table_update[key]['Bitcoin Test_Accuracy'] = model_updated_output[key + ' BTC'][1]"
   ]
  },
  {
   "cell_type": "code",
   "execution_count": 348,
   "metadata": {},
   "outputs": [
    {
     "data": {
      "text/html": [
       "<div>\n",
       "<style scoped>\n",
       "    .dataframe tbody tr th:only-of-type {\n",
       "        vertical-align: middle;\n",
       "    }\n",
       "\n",
       "    .dataframe tbody tr th {\n",
       "        vertical-align: top;\n",
       "    }\n",
       "\n",
       "    .dataframe thead th {\n",
       "        text-align: right;\n",
       "    }\n",
       "</style>\n",
       "<table border=\"1\" class=\"dataframe\">\n",
       "  <thead>\n",
       "    <tr style=\"text-align: right;\">\n",
       "      <th></th>\n",
       "      <th>S&amp;P 500</th>\n",
       "      <th>Gold</th>\n",
       "      <th>EUR/USD</th>\n",
       "      <th>USD/JPN</th>\n",
       "      <th>Corp_Bonds</th>\n",
       "      <th>Treas_Bonds</th>\n",
       "    </tr>\n",
       "  </thead>\n",
       "  <tbody>\n",
       "    <tr>\n",
       "      <th>C_Param</th>\n",
       "      <td>10</td>\n",
       "      <td>0.001</td>\n",
       "      <td>1</td>\n",
       "      <td>0.0001</td>\n",
       "      <td>10</td>\n",
       "      <td>0.001</td>\n",
       "    </tr>\n",
       "    <tr>\n",
       "      <th>Gamma</th>\n",
       "      <td>10</td>\n",
       "      <td>0.01</td>\n",
       "      <td>100</td>\n",
       "      <td>100</td>\n",
       "      <td>1</td>\n",
       "      <td>0.01</td>\n",
       "    </tr>\n",
       "    <tr>\n",
       "      <th>Bitcoin Train_Accuracy</th>\n",
       "      <td>0.567483</td>\n",
       "      <td>0.565599</td>\n",
       "      <td>0.37602</td>\n",
       "      <td>0.565599</td>\n",
       "      <td>0.474576</td>\n",
       "      <td>0.565599</td>\n",
       "    </tr>\n",
       "    <tr>\n",
       "      <th>Bitcoin Test_Accuracy</th>\n",
       "      <td>0.595506</td>\n",
       "      <td>0.589888</td>\n",
       "      <td>0.331461</td>\n",
       "      <td>0.589888</td>\n",
       "      <td>0.47191</td>\n",
       "      <td>0.589888</td>\n",
       "    </tr>\n",
       "  </tbody>\n",
       "</table>\n",
       "</div>"
      ],
      "text/plain": [
       "                         S&P 500      Gold   EUR/USD   USD/JPN Corp_Bonds  \\\n",
       "C_Param                       10     0.001         1    0.0001         10   \n",
       "Gamma                         10      0.01       100       100          1   \n",
       "Bitcoin Train_Accuracy  0.567483  0.565599   0.37602  0.565599   0.474576   \n",
       "Bitcoin Test_Accuracy   0.595506  0.589888  0.331461  0.589888    0.47191   \n",
       "\n",
       "                       Treas_Bonds  \n",
       "C_Param                      0.001  \n",
       "Gamma                         0.01  \n",
       "Bitcoin Train_Accuracy    0.565599  \n",
       "Bitcoin Test_Accuracy     0.589888  "
      ]
     },
     "execution_count": 348,
     "metadata": {},
     "output_type": "execute_result"
    }
   ],
   "source": [
    "columns = ['S&P 500', 'Gold', \"EUR/USD\", \"USD/JPN\", \"Corp_Bonds\", \"Treas_Bonds\"]\n",
    "btc_table.columns = columns\n",
    "btc_table"
   ]
  },
  {
   "cell_type": "code",
   "execution_count": 349,
   "metadata": {},
   "outputs": [
    {
     "data": {
      "text/html": [
       "<div>\n",
       "<style scoped>\n",
       "    .dataframe tbody tr th:only-of-type {\n",
       "        vertical-align: middle;\n",
       "    }\n",
       "\n",
       "    .dataframe tbody tr th {\n",
       "        vertical-align: top;\n",
       "    }\n",
       "\n",
       "    .dataframe thead th {\n",
       "        text-align: right;\n",
       "    }\n",
       "</style>\n",
       "<table border=\"1\" class=\"dataframe\">\n",
       "  <thead>\n",
       "    <tr style=\"text-align: right;\">\n",
       "      <th></th>\n",
       "      <th>S&amp;P 500</th>\n",
       "      <th>Gold</th>\n",
       "      <th>EUR/USD</th>\n",
       "      <th>USD/JPN</th>\n",
       "      <th>Corp_Bonds</th>\n",
       "      <th>Treas_Bonds</th>\n",
       "    </tr>\n",
       "  </thead>\n",
       "  <tbody>\n",
       "    <tr>\n",
       "      <th>C_Param</th>\n",
       "      <td>100</td>\n",
       "      <td>0.0001</td>\n",
       "      <td>100</td>\n",
       "      <td>1</td>\n",
       "      <td>10</td>\n",
       "      <td>0.001</td>\n",
       "    </tr>\n",
       "    <tr>\n",
       "      <th>Gamma</th>\n",
       "      <td>0.0001</td>\n",
       "      <td>0.001</td>\n",
       "      <td>100</td>\n",
       "      <td>0.001</td>\n",
       "      <td>0.1</td>\n",
       "      <td>1</td>\n",
       "    </tr>\n",
       "    <tr>\n",
       "      <th>Bitcoin Train_Accuracy</th>\n",
       "      <td>0.563716</td>\n",
       "      <td>0.563716</td>\n",
       "      <td>0.694915</td>\n",
       "      <td>0.563716</td>\n",
       "      <td>0.502197</td>\n",
       "      <td>0.563716</td>\n",
       "    </tr>\n",
       "    <tr>\n",
       "      <th>Bitcoin Test_Accuracy</th>\n",
       "      <td>0.606742</td>\n",
       "      <td>0.606742</td>\n",
       "      <td>0.674157</td>\n",
       "      <td>0.606742</td>\n",
       "      <td>0.567416</td>\n",
       "      <td>0.606742</td>\n",
       "    </tr>\n",
       "  </tbody>\n",
       "</table>\n",
       "</div>"
      ],
      "text/plain": [
       "                         S&P 500      Gold   EUR/USD   USD/JPN Corp_Bonds  \\\n",
       "C_Param                      100    0.0001       100         1         10   \n",
       "Gamma                     0.0001     0.001       100     0.001        0.1   \n",
       "Bitcoin Train_Accuracy  0.563716  0.563716  0.694915  0.563716   0.502197   \n",
       "Bitcoin Test_Accuracy   0.606742  0.606742  0.674157  0.606742   0.567416   \n",
       "\n",
       "                       Treas_Bonds  \n",
       "C_Param                      0.001  \n",
       "Gamma                            1  \n",
       "Bitcoin Train_Accuracy    0.563716  \n",
       "Bitcoin Test_Accuracy     0.606742  "
      ]
     },
     "execution_count": 349,
     "metadata": {},
     "output_type": "execute_result"
    }
   ],
   "source": [
    "columns = ['S&P 500', 'Gold', \"EUR/USD\", \"USD/JPN\", \"Corp_Bonds\", \"Treas_Bonds\"]\n",
    "btc_table_update.columns = columns\n",
    "btc_table_update"
   ]
  },
  {
   "cell_type": "markdown",
   "metadata": {},
   "source": [
    "Please disregard the following: Code for utilizing GARCH which proved ineffective"
   ]
  },
  {
   "cell_type": "code",
   "execution_count": null,
   "metadata": {},
   "outputs": [],
   "source": [
    "# n = 20 #Monthly Smoothing \n",
    "# i = 0\n",
    "# variance_moment_vol_df = pd.DataFrame(garch_var.index[n-1:])\n",
    "# variance_moment_vol_df.set_index('Date',inplace = True)\n",
    "# var_vol_ar = np.zeros(garch_var.shape[0] - n + 1)\n",
    "# var_mom_ar = np.zeros(garch_var.shape[0] - n + 1)\n",
    "# for column in garch_var:\n",
    "#     prices = garch_var[column].values\n",
    "#     temp_mom = np.zeros(garch_var.shape[0])\n",
    "#     for d in range(garch_var.shape[0]):\n",
    "#         if prices[d] > 0:\n",
    "#             temp_mom[d] = 1\n",
    "#         elif prices[d] < 0:\n",
    "#             temp_mom[d] = -1\n",
    "#     for j in range(garch_var.shape[0]-n+1):\n",
    "#         var_vol_ar[j] = np.average(prices[j:j+n])\n",
    "#         var_mom_ar[j] = np.average(temp_mom[j:j+n])\n",
    "#     variance_moment_vol_df[column + ' Var Vol'] = var_vol_ar\n",
    "#     variance_moment_vol_df[column + ' Var Moment'] = var_mom_ar"
   ]
  },
  {
   "cell_type": "code",
   "execution_count": 143,
   "metadata": {},
   "outputs": [],
   "source": [
    "# print(variance_moment_vol_df.shape)\n",
    "# print(variance_moment_vol_df.index[0],variance_moment_vol_df.index[-1])\n",
    "# variance_moment_vol_df\n"
   ]
  },
  {
   "cell_type": "code",
   "execution_count": 144,
   "metadata": {},
   "outputs": [],
   "source": [
    "# snp = vm_df.iloc[:-20,0:2].values\n",
    "# gld = vm_df.iloc[:-20,2:4].values\n",
    "# eur = vm_df.iloc[:-20,4:6].values\n",
    "# usd = vm_df.iloc[:-20,6:8].values\n",
    "# cbnd = vm_df.iloc[:-20,8:10].values\n",
    "# tbnd = vm_df.iloc[:-20,10:12].values"
   ]
  },
  {
   "cell_type": "code",
   "execution_count": 145,
   "metadata": {},
   "outputs": [],
   "source": [
    "# snp_var = variance_moment_vol_df.iloc[:-19,0:2]\n",
    "# gld_var = variance_moment_vol_df.iloc[:-19,2:4]\n",
    "# eur_var = variance_moment_vol_df.iloc[:-19,4:6]\n",
    "# usd_var = variance_moment_vol_df.iloc[:-19,6:8]\n",
    "# cbnd_var = variance_moment_vol_df.iloc[:-19,8:10]\n",
    "# tbnd_var = variance_moment_vol_df.iloc[:-19,10:12]"
   ]
  },
  {
   "cell_type": "code",
   "execution_count": 146,
   "metadata": {},
   "outputs": [],
   "source": [
    "# snp_fin = np.hstack((snp[4:],snp_var))\n",
    "# gld_fin = np.hstack((snp[4:],gld_var))\n",
    "# eur_fin = np.hstack((snp[4:],eur_var))\n",
    "# usd_fin = np.hstack((snp[4:],usd_var))\n",
    "# cbnd_fin = np.hstack((snp[4:],cbnd_var))\n",
    "# tbnd_fin = np.hstack((snp[4:],tbnd_var))"
   ]
  },
  {
   "cell_type": "code",
   "execution_count": 147,
   "metadata": {},
   "outputs": [],
   "source": [
    "# print(snp_dep.shape)\n",
    "# snp_fin.shape"
   ]
  },
  {
   "cell_type": "code",
   "execution_count": 148,
   "metadata": {},
   "outputs": [],
   "source": [
    "# snp_dep = y_df.iloc[24:,0:1].values\n",
    "# gld_dep = y_df.iloc[24:,1:2].values\n",
    "# eur_dep = y_df.iloc[24:,2:3].values\n",
    "# usd_dep = y_df.iloc[24:,3:4].values\n",
    "# cbnd_dep = y_df.iloc[24:,4:5].values\n",
    "# tbnd_dep = y_df.iloc[24:,5:6].values"
   ]
  },
  {
   "cell_type": "code",
   "execution_count": 149,
   "metadata": {},
   "outputs": [],
   "source": [
    "# snp_dep.shape"
   ]
  },
  {
   "cell_type": "code",
   "execution_count": 150,
   "metadata": {},
   "outputs": [],
   "source": [
    "# X_train, X_test, y_train, y_test = train_test_split(usd_fin,usd_dep,test_size = 0.3)"
   ]
  },
  {
   "cell_type": "code",
   "execution_count": 151,
   "metadata": {},
   "outputs": [],
   "source": [
    "#Training a model\n",
    "# svc = svm.SVC(probability = False, kernel = \"rbf\", C = 2.8, gamma = .0073, verbose = 10)"
   ]
  },
  {
   "cell_type": "code",
   "execution_count": 152,
   "metadata": {},
   "outputs": [],
   "source": [
    "# y_train = y_train.reshape(y_train.shape[0],)\n",
    "# y_test = y_test.reshape(y_test.shape[0],)\n",
    "# print(y_train)"
   ]
  },
  {
   "cell_type": "code",
   "execution_count": 153,
   "metadata": {},
   "outputs": [],
   "source": [
    "# svc.fit(X_train,y_train)"
   ]
  },
  {
   "cell_type": "code",
   "execution_count": 154,
   "metadata": {},
   "outputs": [],
   "source": [
    "# yhat_ts = svc.predict(X_test)\n",
    "# acc = np.mean(yhat_ts == y_test)\n",
    "# print('Accuaracy = {0:f}'.format(acc))"
   ]
  },
  {
   "cell_type": "code",
   "execution_count": 155,
   "metadata": {},
   "outputs": [],
   "source": [
    "# plt.scatter(X_test[:,0], X_test[:,1], c = y_test[:], s = 50, cmap = 'autumn')"
   ]
  }
 ],
 "metadata": {
  "kernelspec": {
   "display_name": "Python 3",
   "language": "python",
   "name": "python3"
  },
  "language_info": {
   "codemirror_mode": {
    "name": "ipython",
    "version": 3
   },
   "file_extension": ".py",
   "mimetype": "text/x-python",
   "name": "python",
   "nbconvert_exporter": "python",
   "pygments_lexer": "ipython3",
   "version": "3.7.1"
  }
 },
 "nbformat": 4,
 "nbformat_minor": 2
}
