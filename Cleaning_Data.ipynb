{
 "cells": [
  {
   "cell_type": "markdown",
   "metadata": {},
   "source": [
    "# Cleaning Data Spreadsheet\n",
    "This notebook breaks down the process for importing data into pandas dataframes, cleaning the data, and preprocessing it."
   ]
  },
  {
   "cell_type": "code",
   "execution_count": 1,
   "metadata": {},
   "outputs": [],
   "source": [
    "import pandas as pd\n",
    "import numpy as np\n",
    "from sklearn import preprocessing\n",
    "import matplotlib.pyplot as plt\n",
    "import seaborn as sns\n",
    "%matplotlib inline\n",
    "\n",
    "from scipy import stats\n",
    "from datetime import datetime\n",
    "from functools import reduce\n",
    "import datetime \n",
    "import statsmodels.tsa.api as smt\n",
    "import statsmodels.formula.api as smf\n",
    "import statsmodels.api as sm"
   ]
  },
  {
   "cell_type": "markdown",
   "metadata": {},
   "source": [
    "Importing the Datasets that have been downloaded from Yahoo Finance, as well as Dukascopy.com (Currencies)"
   ]
  },
  {
   "cell_type": "code",
   "execution_count": 2,
   "metadata": {},
   "outputs": [],
   "source": [
    "snp = pd.read_csv('Datasets/Snp500.csv')\n",
    "gld = pd.read_csv('Datasets/SPDR_Gold.csv')\n",
    "eur = pd.read_csv('Datasets/EURUSD.csv')\n",
    "usd = pd.read_csv('Datasets/USDJPY.csv')\n",
    "cbnd = pd.read_csv('Datasets/Corp_Bonds.csv')\n",
    "tbnd = pd.read_csv('Datasets/7_10_yr_Treasury.csv')"
   ]
  },
  {
   "cell_type": "markdown",
   "metadata": {},
   "source": [
    "The Currency Data accounts for weekend prices (in which case the final price on Friday evening is considered as the Sat/Sun price as the markets are closed). Thus I filter to remove weekend prices (i.e. where trade volume is 0). I also describe the shapes of the datasets in order to grasp the size (in days) of the data."
   ]
  },
  {
   "cell_type": "code",
   "execution_count": 3,
   "metadata": {},
   "outputs": [
    {
     "name": "stdout",
     "output_type": "stream",
     "text": [
      "(9910, 7)\n",
      "(3629, 7)\n",
      "(4163, 6)\n",
      "(4161, 6)\n",
      "(4211, 7)\n",
      "(4211, 7)\n"
     ]
    }
   ],
   "source": [
    "#currencies are counting for weekends\n",
    "#remove dates where volume is 0\n",
    "eur['Local time'] = eur['Local time'].shift(-1)\n",
    "usd['Local time'] = usd['Local time'].shift(-1)\n",
    "eur = eur[eur.Volume != 0]\n",
    "usd = usd[usd.Volume != 0]\n",
    "dflist = [snp,gld,eur,usd,cbnd,tbnd]\n",
    "for i, dfr in enumerate(dflist):\n",
    "    print(dflist[i].shape)\n",
    "#SNP is from 1980 (fix to include only since 2003)"
   ]
  },
  {
   "cell_type": "code",
   "execution_count": 4,
   "metadata": {},
   "outputs": [],
   "source": [
    "#Leaving only Date Close Price and Volume\n",
    "snp = snp.drop(['Open','High','Low','Adj Close'], axis = 1)\n",
    "gld = gld.drop(['Open','High','Low','Adj Close'], axis = 1)\n",
    "cbnd = cbnd.drop(['Open','High','Low','Adj Close'], axis = 1)\n",
    "tbnd = tbnd.drop(['Open','High','Low','Adj Close'], axis = 1)\n",
    "eur = eur.drop(['Open','High','Low'], axis = 1)\n",
    "usd = usd.drop(['Open','High','Low'], axis = 1)"
   ]
  },
  {
   "cell_type": "code",
   "execution_count": 5,
   "metadata": {},
   "outputs": [],
   "source": [
    "#Changing first column to datetime ans simplifying (only day, not time)\n",
    "snp['Date'] = pd.to_datetime(snp['Date']).dt.date\n",
    "gld['Date'] = pd.to_datetime(gld['Date']).dt.date\n",
    "cbnd['Date'] = pd.to_datetime(cbnd['Date']).dt.date\n",
    "tbnd['Date'] = pd.to_datetime(tbnd['Date']).dt.date\n",
    "eur.rename(columns = {'Local time':'Date'}, inplace = True)\n",
    "usd.rename(columns = {'Local time':'Date'}, inplace = True)\n",
    "eur['Date'] = pd.to_datetime(eur['Date'], dayfirst = True).dt.date\n",
    "usd['Date'] = pd.to_datetime(usd['Date'], dayfirst = True).dt.date"
   ]
  },
  {
   "cell_type": "code",
   "execution_count": 6,
   "metadata": {},
   "outputs": [],
   "source": [
    "#Renaming Columns that will be fed into the larger dataframe\n",
    "snp.rename(columns = {'Close':'SNP_Close','Volume':'SNP_Volume'}, inplace = True)\n",
    "gld.rename(columns = {'Close':'GLD_Close','Volume':'GLD_Volume'}, inplace = True)\n",
    "eur.rename(columns = {'Close':'EUR_Close','Volume':'EUR_Volume'}, inplace = True)\n",
    "usd.rename(columns = {'Close':'USD_Close','Volume':'USD_Volume'}, inplace = True)\n",
    "cbnd.rename(columns = {'Close':'CBND_Close','Volume':'CBND_Volume'}, inplace = True)\n",
    "tbnd.rename(columns = {'Close':'TBND_Close','Volume':'TBND_Volume'}, inplace = True)"
   ]
  },
  {
   "cell_type": "markdown",
   "metadata": {},
   "source": [
    "Here I index and sort each asset class by the date column.\n",
    "\n",
    "Then, I merge the individual asset classes by their common index (so as to make sure that I will be fairly training the models on datasets encompassing the same date range, and in order to make storing the asset classes easier."
   ]
  },
  {
   "cell_type": "code",
   "execution_count": 7,
   "metadata": {},
   "outputs": [],
   "source": [
    "dflist = [snp,gld,eur,usd,cbnd,tbnd]\n",
    "for i, dfr in enumerate(dflist):\n",
    "    dflist[i].set_index('Date',inplace = True)\n",
    "    dflist[i].sort_index(inplace = True)\n",
    "\n",
    "from functools import reduce\n",
    "dflist = [snp,gld,eur,usd,cbnd,tbnd]\n",
    "df_final = reduce(lambda left, right: pd.merge(left, right, on = 'Date'),dflist)"
   ]
  },
  {
   "cell_type": "code",
   "execution_count": 8,
   "metadata": {},
   "outputs": [],
   "source": [
    "df_final.to_csv('Final_Data_Prices.csv')"
   ]
  },
  {
   "cell_type": "markdown",
   "metadata": {},
   "source": [
    "This is the main preprocessing stage where I perform two different transformations of the data.\n",
    "\n",
    "For each price column, I calculate the logged returns for each date as the Log(Price at time t, Price at time t-1). This is a common technique used in analyzing time series data, and it has many advantages in model calculation stemming from log properties on small changes (i.e. for small r, log(1+r) is approximately r). \n",
    "\n",
    "For each volume column, I normalize the volumes. The information from the volumes in magnitude and scale is not as important as the values relative to their mean (i.e. how extreme is the volume relative to the norm). In doing so, I assume that the volume has a constant mean that is independent of time and constant variance. In reality, it is likely that volume is more like prices and this may not neccesarily be true. I may need to tweak this in the future."
   ]
  },
  {
   "cell_type": "code",
   "execution_count": 8,
   "metadata": {},
   "outputs": [
    {
     "name": "stderr",
     "output_type": "stream",
     "text": [
      "C:\\Users\\alexk\\Anaconda3\\lib\\site-packages\\sklearn\\utils\\validation.py:595: DataConversionWarning: Data with input dtype int64 was converted to float64 by the scale function.\n",
      "  warnings.warn(msg, DataConversionWarning)\n",
      "C:\\Users\\alexk\\Anaconda3\\lib\\site-packages\\sklearn\\preprocessing\\data.py:176: UserWarning: Numerical issues were encountered when centering the data and might not be solved. Dataset may contain too large values. You may need to prescale your features.\n",
      "  warnings.warn(\"Numerical issues were encountered \"\n",
      "C:\\Users\\alexk\\Anaconda3\\lib\\site-packages\\sklearn\\utils\\validation.py:595: DataConversionWarning: Data with input dtype int64 was converted to float64 by the scale function.\n",
      "  warnings.warn(msg, DataConversionWarning)\n",
      "C:\\Users\\alexk\\Anaconda3\\lib\\site-packages\\sklearn\\preprocessing\\data.py:176: UserWarning: Numerical issues were encountered when centering the data and might not be solved. Dataset may contain too large values. You may need to prescale your features.\n",
      "  warnings.warn(\"Numerical issues were encountered \"\n",
      "C:\\Users\\alexk\\Anaconda3\\lib\\site-packages\\sklearn\\utils\\validation.py:595: DataConversionWarning: Data with input dtype int64 was converted to float64 by the scale function.\n",
      "  warnings.warn(msg, DataConversionWarning)\n",
      "C:\\Users\\alexk\\Anaconda3\\lib\\site-packages\\sklearn\\utils\\validation.py:595: DataConversionWarning: Data with input dtype int64 was converted to float64 by the scale function.\n",
      "  warnings.warn(msg, DataConversionWarning)\n"
     ]
    }
   ],
   "source": [
    "j = 0\n",
    "for i in df_final:\n",
    "    if j % 2 == 0:\n",
    "        df_final[i] = np.log(df_final[i]/df_final[i].shift(1))\n",
    "    else:\n",
    "        df_final[i] = preprocessing.scale(df_final[i].values)\n",
    "    j+=1"
   ]
  },
  {
   "cell_type": "code",
   "execution_count": 9,
   "metadata": {},
   "outputs": [
    {
     "name": "stdout",
     "output_type": "stream",
     "text": [
      "(3627, 12)\n"
     ]
    },
    {
     "data": {
      "text/html": [
       "<div>\n",
       "<style scoped>\n",
       "    .dataframe tbody tr th:only-of-type {\n",
       "        vertical-align: middle;\n",
       "    }\n",
       "\n",
       "    .dataframe tbody tr th {\n",
       "        vertical-align: top;\n",
       "    }\n",
       "\n",
       "    .dataframe thead th {\n",
       "        text-align: right;\n",
       "    }\n",
       "</style>\n",
       "<table border=\"1\" class=\"dataframe\">\n",
       "  <thead>\n",
       "    <tr style=\"text-align: right;\">\n",
       "      <th></th>\n",
       "      <th>SNP_Close</th>\n",
       "      <th>SNP_Volume</th>\n",
       "      <th>GLD_Close</th>\n",
       "      <th>GLD_Volume</th>\n",
       "      <th>EUR_Close</th>\n",
       "      <th>EUR_Volume</th>\n",
       "      <th>USD_Close</th>\n",
       "      <th>USD_Volume</th>\n",
       "      <th>CBND_Close</th>\n",
       "      <th>CBND_Volume</th>\n",
       "      <th>TBND_Close</th>\n",
       "      <th>TBND_Volume</th>\n",
       "    </tr>\n",
       "    <tr>\n",
       "      <th>Date</th>\n",
       "      <th></th>\n",
       "      <th></th>\n",
       "      <th></th>\n",
       "      <th></th>\n",
       "      <th></th>\n",
       "      <th></th>\n",
       "      <th></th>\n",
       "      <th></th>\n",
       "      <th></th>\n",
       "      <th></th>\n",
       "      <th></th>\n",
       "      <th></th>\n",
       "    </tr>\n",
       "  </thead>\n",
       "  <tbody>\n",
       "    <tr>\n",
       "      <th>2004-11-19</th>\n",
       "      <td>-0.011224</td>\n",
       "      <td>-1.740063</td>\n",
       "      <td>0.008973</td>\n",
       "      <td>0.271874</td>\n",
       "      <td>0.004888</td>\n",
       "      <td>1.418665</td>\n",
       "      <td>-0.010727</td>\n",
       "      <td>0.082009</td>\n",
       "      <td>-0.005258</td>\n",
       "      <td>-0.819043</td>\n",
       "      <td>-0.005495</td>\n",
       "      <td>0.489545</td>\n",
       "    </tr>\n",
       "    <tr>\n",
       "      <th>2004-11-22</th>\n",
       "      <td>0.005878</td>\n",
       "      <td>-1.848352</td>\n",
       "      <td>0.003789</td>\n",
       "      <td>0.318723</td>\n",
       "      <td>0.001956</td>\n",
       "      <td>1.396135</td>\n",
       "      <td>0.000378</td>\n",
       "      <td>0.080116</td>\n",
       "      <td>-0.000447</td>\n",
       "      <td>-0.793952</td>\n",
       "      <td>0.000703</td>\n",
       "      <td>-0.608626</td>\n",
       "    </tr>\n",
       "    <tr>\n",
       "      <th>2004-11-23</th>\n",
       "      <td>-0.000255</td>\n",
       "      <td>-1.819561</td>\n",
       "      <td>-0.004459</td>\n",
       "      <td>-0.895031</td>\n",
       "      <td>0.003007</td>\n",
       "      <td>1.380100</td>\n",
       "      <td>0.001598</td>\n",
       "      <td>0.080919</td>\n",
       "      <td>0.001251</td>\n",
       "      <td>-0.838895</td>\n",
       "      <td>-0.000938</td>\n",
       "      <td>-0.600090</td>\n",
       "    </tr>\n",
       "    <tr>\n",
       "      <th>2004-11-24</th>\n",
       "      <td>0.004087</td>\n",
       "      <td>-2.044953</td>\n",
       "      <td>0.006682</td>\n",
       "      <td>-0.491322</td>\n",
       "      <td>0.007309</td>\n",
       "      <td>1.392799</td>\n",
       "      <td>-0.005153</td>\n",
       "      <td>0.084316</td>\n",
       "      <td>-0.000089</td>\n",
       "      <td>-0.843064</td>\n",
       "      <td>0.001406</td>\n",
       "      <td>-0.672622</td>\n",
       "    </tr>\n",
       "    <tr>\n",
       "      <th>2004-11-26</th>\n",
       "      <td>0.000753</td>\n",
       "      <td>-2.566598</td>\n",
       "      <td>0.005313</td>\n",
       "      <td>-0.904862</td>\n",
       "      <td>0.008452</td>\n",
       "      <td>1.351151</td>\n",
       "      <td>-0.002114</td>\n",
       "      <td>0.075066</td>\n",
       "      <td>-0.003578</td>\n",
       "      <td>-0.852473</td>\n",
       "      <td>-0.003637</td>\n",
       "      <td>-0.666729</td>\n",
       "    </tr>\n",
       "  </tbody>\n",
       "</table>\n",
       "</div>"
      ],
      "text/plain": [
       "            SNP_Close  SNP_Volume  GLD_Close  GLD_Volume  EUR_Close  \\\n",
       "Date                                                                  \n",
       "2004-11-19  -0.011224   -1.740063   0.008973    0.271874   0.004888   \n",
       "2004-11-22   0.005878   -1.848352   0.003789    0.318723   0.001956   \n",
       "2004-11-23  -0.000255   -1.819561  -0.004459   -0.895031   0.003007   \n",
       "2004-11-24   0.004087   -2.044953   0.006682   -0.491322   0.007309   \n",
       "2004-11-26   0.000753   -2.566598   0.005313   -0.904862   0.008452   \n",
       "\n",
       "            EUR_Volume  USD_Close  USD_Volume  CBND_Close  CBND_Volume  \\\n",
       "Date                                                                     \n",
       "2004-11-19    1.418665  -0.010727    0.082009   -0.005258    -0.819043   \n",
       "2004-11-22    1.396135   0.000378    0.080116   -0.000447    -0.793952   \n",
       "2004-11-23    1.380100   0.001598    0.080919    0.001251    -0.838895   \n",
       "2004-11-24    1.392799  -0.005153    0.084316   -0.000089    -0.843064   \n",
       "2004-11-26    1.351151  -0.002114    0.075066   -0.003578    -0.852473   \n",
       "\n",
       "            TBND_Close  TBND_Volume  \n",
       "Date                                 \n",
       "2004-11-19   -0.005495     0.489545  \n",
       "2004-11-22    0.000703    -0.608626  \n",
       "2004-11-23   -0.000938    -0.600090  \n",
       "2004-11-24    0.001406    -0.672622  \n",
       "2004-11-26   -0.003637    -0.666729  "
      ]
     },
     "execution_count": 9,
     "metadata": {},
     "output_type": "execute_result"
    }
   ],
   "source": [
    "#Dropping the first row as it is NaN as a result of the Log Calculations\n",
    "df_final.drop(df_final.index[0],inplace = True)\n",
    "print(df_final.shape)\n",
    "df_final.head()"
   ]
  },
  {
   "cell_type": "code",
   "execution_count": 10,
   "metadata": {},
   "outputs": [],
   "source": [
    "#Exporting the DataSet\n",
    "df_final.to_csv('Final_Data.csv')"
   ]
  },
  {
   "cell_type": "code",
   "execution_count": 9,
   "metadata": {},
   "outputs": [],
   "source": [
    "#Testing Data Set Cleanup\n",
    "btc_data = pd.read_csv('BTC-USD.csv')"
   ]
  },
  {
   "cell_type": "code",
   "execution_count": 10,
   "metadata": {},
   "outputs": [],
   "source": [
    "btc_data = btc_data.drop(['Open','High','Low','Adj Close'], axis = 1)\n",
    "btc_data['Date'] = pd.to_datetime(btc_data['Date']).dt.date\n",
    "btc_data.rename(columns = {'Close':'BTC_Close','Volume':'BTC_Volume'}, inplace = True)\n",
    "btc_data.set_index('Date',inplace = True)\n",
    "btc_data.sort_index(inplace = True)\n",
    "btc_data.to_csv('BTC_Prices.csv')"
   ]
  },
  {
   "cell_type": "code",
   "execution_count": null,
   "metadata": {},
   "outputs": [],
   "source": [
    "btc_data['BTC_Close'] = np.log(btc_data['BTC_Close']/btc_data['BTC_Close'].shift(1))\n",
    "btc_data['BTC_Volume'] = preprocessing.scale(btc_data['BTC_Volume'].values)\n",
    "btc_data.drop(btc_data.index[0],inplace = True)\n",
    "print(btc_data.shape)\n",
    "btc_data.head()"
   ]
  },
  {
   "cell_type": "code",
   "execution_count": 13,
   "metadata": {},
   "outputs": [],
   "source": [
    "btc_data.to_csv('BTC_Final.csv')"
   ]
  },
  {
   "cell_type": "code",
   "execution_count": 255,
   "metadata": {},
   "outputs": [],
   "source": []
  }
 ],
 "metadata": {
  "kernelspec": {
   "display_name": "Python 3",
   "language": "python",
   "name": "python3"
  },
  "language_info": {
   "codemirror_mode": {
    "name": "ipython",
    "version": 3
   },
   "file_extension": ".py",
   "mimetype": "text/x-python",
   "name": "python",
   "nbconvert_exporter": "python",
   "pygments_lexer": "ipython3",
   "version": "3.7.1"
  }
 },
 "nbformat": 4,
 "nbformat_minor": 2
}
